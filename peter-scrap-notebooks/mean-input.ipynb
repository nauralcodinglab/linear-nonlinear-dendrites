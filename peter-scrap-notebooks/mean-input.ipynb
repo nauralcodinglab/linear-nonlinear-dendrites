{
 "metadata": {
  "language_info": {
   "codemirror_mode": {
    "name": "ipython",
    "version": 3
   },
   "file_extension": ".py",
   "mimetype": "text/x-python",
   "name": "python",
   "nbconvert_exporter": "python",
   "pygments_lexer": "ipython3",
   "version": "3.8.7-final"
  },
  "orig_nbformat": 2,
  "kernelspec": {
   "name": "python3",
   "display_name": "Python 3.8.7 64-bit",
   "metadata": {
    "interpreter": {
     "hash": "a6fe0cf8b6da188a2cb8fc25419557519b3ad837b59d59ce0679950fb09ed546"
    }
   }
  }
 },
 "nbformat": 4,
 "nbformat_minor": 2,
 "cells": [
  {
   "cell_type": "code",
   "execution_count": 1,
   "metadata": {},
   "outputs": [
    {
     "output_type": "display_data",
     "data": {
      "text/html": "        <script type=\"text/javascript\">\n        window.PlotlyConfig = {MathJaxConfig: 'local'};\n        if (window.MathJax) {MathJax.Hub.Config({SVG: {font: \"STIX-Web\"}});}\n        if (typeof require !== 'undefined') {\n        require.undef(\"plotly\");\n        requirejs.config({\n            paths: {\n                'plotly': ['https://cdn.plot.ly/plotly-latest.min']\n            }\n        });\n        require(['plotly'], function(Plotly) {\n            window._Plotly = Plotly;\n        });\n        }\n        </script>\n        "
     },
     "metadata": {}
    }
   ],
   "source": [
    "import numpy as np\n",
    "from typing import Callable, Optional, Union, TypedDict\n",
    "from scipy.signal import lfilter\n",
    "import matplotlib.pyplot as plt\n",
    "import plotly as pyplot\n",
    "import plotly.graph_objects as graph_objects\n",
    "import ipywidgets as widgets\n",
    "from decimal import *\n",
    "\n",
    "pyplot.offline.init_notebook_mode(connected=True)"
   ]
  },
  {
   "cell_type": "code",
   "execution_count": 2,
   "metadata": {},
   "outputs": [],
   "source": [
    "TIMESTEP_WIDTH_MS = 0.1\n",
    "T_FILTER_MS = 100\n",
    "T_INJECTIONS_MS = 1000"
   ]
  },
  {
   "cell_type": "code",
   "execution_count": 3,
   "metadata": {},
   "outputs": [],
   "source": [
    "def get_exponential_kernel(\n",
    "    tau_ms: float, kernel_length_ms: float, dt: float = TIMESTEP_WIDTH_MS\n",
    ") -> np.ndarray:\n",
    "    t = np.arange(0, kernel_length_ms, dt)\n",
    "    IRF_filter = np.exp(-t / tau_ms)\n",
    "    IRF_filter = IRF_filter/sum(IRF_filter)\n",
    "    return IRF_filter\n",
    "\n",
    "def get_filter(kernel: np.ndarray) -> Callable[[np.ndarray], np.ndarray]:\n",
    "  \"\"\"Get a function that convolves the kernel with an input.\"\"\"\n",
    "  return lambda input_: lfilter(kernel, 1, input_, axis=-1, zi=None)\n",
    "\n",
    "def get_sigmoid(loc: float, sensitivity: float, gain: float) -> Callable[[np.ndarray], np.ndarray]:\n",
    "    def sigmoid(x):\n",
    "        return gain / (1 + np.exp(-(x - loc) / sensitivity))\n",
    "    return sigmoid\n",
    "\n",
    "def my_GWN(filter_length: int, mu: float, sig: float, myseed=False):\n",
    "  \"\"\"\n",
    "  Function that generates Gaussian white noise input\n",
    "\n",
    "  Args:\n",
    "    pars       : parameter dictionary\n",
    "    mu         : noise baseline (mean)\n",
    "    sig        : noise amplitute (standard deviation)\n",
    "    myseed     : random seed. int or boolean\n",
    "                 the same seed will give the same\n",
    "                 random number sequence\n",
    "\n",
    "  Returns:\n",
    "    I          : Gaussian white noise input\n",
    "  \"\"\"\n",
    "  # set random seed\n",
    "  # you can fix the seed of the random number generator so that the results\n",
    "  # are reliable however, when you want to generate multiple realization\n",
    "  # make sure that you change the seed for each new realization.\n",
    "  if myseed:\n",
    "      np.random.seed(seed=myseed)\n",
    "  else:\n",
    "      np.random.seed()\n",
    "\n",
    "  # generate GWN\n",
    "  # we divide here by 1000 to convert units to sec.\n",
    "  I_gwn = mu +  sig * np.random.randn(filter_length) / np.sqrt(TIMESTEP_WIDTH_MS / 1000.)\n",
    "\n",
    "  return I_gwn\n"
   ]
  },
  {
   "cell_type": "code",
   "execution_count": 4,
   "metadata": {},
   "outputs": [],
   "source": [
    "delta_mu_pA = 0.5\n",
    "sigma_pA = 1\n",
    "mu_start_pA = 0\n",
    "\n",
    "sim_parameters = list()\n",
    "num_steps = 12\n",
    "for i in range(0, num_steps):\n",
    "    mu_pA = mu_start_pA + i * delta_mu_pA\n",
    "    input_signal = my_GWN(filter_length=T_INJECTIONS_MS, mu=mu_pA, sig=sigma_pA)\n",
    "    sim_parameters.append({'input': input_signal, 'mu_pA': mu_pA, 'sigma_pA': sigma_pA})\n"
   ]
  },
  {
   "cell_type": "code",
   "execution_count": 5,
   "metadata": {},
   "outputs": [],
   "source": [
    "tau_na_ms = 3\n",
    "tau_membrane_ms = 10\n",
    "na_kernel = get_exponential_kernel(tau_ms=tau_na_ms, kernel_length_ms=T_FILTER_MS)\n",
    "membrane_kernel = get_exponential_kernel(tau_ms=tau_membrane_ms, kernel_length_ms=T_FILTER_MS)\n",
    "na_filter = get_filter(na_kernel)\n",
    "membrane_filter = get_filter(membrane_kernel)"
   ]
  },
  {
   "cell_type": "code",
   "execution_count": 6,
   "metadata": {},
   "outputs": [
    {
     "output_type": "error",
     "ename": "NameError",
     "evalue": "name 'sigmoid' is not defined",
     "traceback": [
      "\u001b[1;31m---------------------------------------------------------------------------\u001b[0m",
      "\u001b[1;31mNameError\u001b[0m                                 Traceback (most recent call last)",
      "\u001b[1;32m<ipython-input-6-69dffdbee4e2>\u001b[0m in \u001b[0;36m<module>\u001b[1;34m\u001b[0m\n\u001b[0;32m      5\u001b[0m     \u001b[0mV_lin\u001b[0m \u001b[1;33m=\u001b[0m \u001b[0mmembrane_filter\u001b[0m\u001b[1;33m(\u001b[0m\u001b[0minput_signal\u001b[0m\u001b[1;33m)\u001b[0m\u001b[1;33m\u001b[0m\u001b[1;33m\u001b[0m\u001b[0m\n\u001b[0;32m      6\u001b[0m     \u001b[0mV_nl_prefilter\u001b[0m \u001b[1;33m=\u001b[0m \u001b[0mna_filter\u001b[0m\u001b[1;33m(\u001b[0m\u001b[0minput_signal\u001b[0m\u001b[1;33m)\u001b[0m\u001b[1;33m\u001b[0m\u001b[1;33m\u001b[0m\u001b[0m\n\u001b[1;32m----> 7\u001b[1;33m     \u001b[0mV_nl_normalized\u001b[0m \u001b[1;33m=\u001b[0m \u001b[0msigmoid\u001b[0m\u001b[1;33m(\u001b[0m\u001b[0mV_nl_prefilter\u001b[0m\u001b[1;33m)\u001b[0m\u001b[1;33m\u001b[0m\u001b[1;33m\u001b[0m\u001b[0m\n\u001b[0m\u001b[0;32m      8\u001b[0m     \u001b[0mV_nl\u001b[0m \u001b[1;33m=\u001b[0m \u001b[0msigmoid_scale\u001b[0m \u001b[1;33m*\u001b[0m \u001b[0mV_nl_normalized\u001b[0m\u001b[1;33m\u001b[0m\u001b[1;33m\u001b[0m\u001b[0m\n\u001b[0;32m      9\u001b[0m \u001b[1;33m\u001b[0m\u001b[0m\n",
      "\u001b[1;31mNameError\u001b[0m: name 'sigmoid' is not defined"
     ]
    }
   ],
   "source": [
    "output_results = list()\n",
    "for sim in sim_parameters:\n",
    "    input_signal = sim['input']\n",
    "    mu_pA = sim['mu_pA']\n",
    "    V_lin = membrane_filter(input_signal)\n",
    "    V_nl_prefilter = na_filter(input_signal)\n",
    "    V_nl_normalized = sigmoid(V_nl_prefilter)\n",
    "    V_nl = sigmoid_scale * V_nl_normalized\n",
    "\n",
    "    output_results.append({'mu_pA': mu_pA, 'V_lin': V_lin, 'V_nl_prefilter': V_nl_prefilter, 'V_nl_normalized': V_nl_normalized, 'V_nl': V_nl})"
   ]
  },
  {
   "cell_type": "code",
   "execution_count": 7,
   "metadata": {},
   "outputs": [
    {
     "output_type": "error",
     "ename": "IndexError",
     "evalue": "list index out of range",
     "traceback": [
      "\u001b[1;31m---------------------------------------------------------------------------\u001b[0m",
      "\u001b[1;31mIndexError\u001b[0m                                Traceback (most recent call last)",
      "\u001b[1;32m<ipython-input-7-1a46a9f9dba7>\u001b[0m in \u001b[0;36m<module>\u001b[1;34m\u001b[0m\n\u001b[1;32m----> 1\u001b[1;33m \u001b[0mfirst_output\u001b[0m \u001b[1;33m=\u001b[0m \u001b[0moutput_results\u001b[0m\u001b[1;33m[\u001b[0m\u001b[1;36m10\u001b[0m\u001b[1;33m]\u001b[0m\u001b[1;33m\u001b[0m\u001b[1;33m\u001b[0m\u001b[0m\n\u001b[0m\u001b[0;32m      2\u001b[0m \u001b[0mplt\u001b[0m\u001b[1;33m.\u001b[0m\u001b[0mplot\u001b[0m\u001b[1;33m(\u001b[0m\u001b[0mfirst_output\u001b[0m\u001b[1;33m[\u001b[0m\u001b[1;34m'V_nl_normalized'\u001b[0m\u001b[1;33m]\u001b[0m\u001b[1;33m[\u001b[0m\u001b[1;36m450\u001b[0m\u001b[1;33m:\u001b[0m\u001b[1;36m650\u001b[0m\u001b[1;33m]\u001b[0m\u001b[1;33m)\u001b[0m\u001b[1;33m\u001b[0m\u001b[1;33m\u001b[0m\u001b[0m\n",
      "\u001b[1;31mIndexError\u001b[0m: list index out of range"
     ]
    }
   ],
   "source": [
    "first_output = output_results[10]\n",
    "plt.plot(first_output['V_nl_normalized'][450:650])"
   ]
  },
  {
   "cell_type": "code",
   "execution_count": 8,
   "metadata": {},
   "outputs": [
    {
     "output_type": "error",
     "ename": "NameError",
     "evalue": "name 'sigmoid' is not defined",
     "traceback": [
      "\u001b[1;31m---------------------------------------------------------------------------\u001b[0m",
      "\u001b[1;31mNameError\u001b[0m                                 Traceback (most recent call last)",
      "\u001b[1;32m<ipython-input-8-22a51a3b06b5>\u001b[0m in \u001b[0;36m<module>\u001b[1;34m\u001b[0m\n\u001b[0;32m     11\u001b[0m     \u001b[0mV_lin\u001b[0m \u001b[1;33m=\u001b[0m \u001b[0mmembrane_filter\u001b[0m\u001b[1;33m(\u001b[0m\u001b[0minput_signal\u001b[0m\u001b[1;33m)\u001b[0m\u001b[1;33m\u001b[0m\u001b[1;33m\u001b[0m\u001b[0m\n\u001b[0;32m     12\u001b[0m     \u001b[0mV_nl_prefilter\u001b[0m \u001b[1;33m=\u001b[0m \u001b[0mna_filter\u001b[0m\u001b[1;33m(\u001b[0m\u001b[0minput_signal\u001b[0m\u001b[1;33m)\u001b[0m\u001b[1;33m\u001b[0m\u001b[1;33m\u001b[0m\u001b[0m\n\u001b[1;32m---> 13\u001b[1;33m     \u001b[0mV_nl_normalized\u001b[0m \u001b[1;33m=\u001b[0m \u001b[0msigmoid\u001b[0m\u001b[1;33m(\u001b[0m\u001b[0mV_nl_prefilter\u001b[0m\u001b[1;33m)\u001b[0m\u001b[1;33m\u001b[0m\u001b[1;33m\u001b[0m\u001b[0m\n\u001b[0m\u001b[0;32m     14\u001b[0m     \u001b[0mV_nl\u001b[0m \u001b[1;33m=\u001b[0m \u001b[0msigmoid_scale\u001b[0m \u001b[1;33m*\u001b[0m \u001b[0mV_nl_normalized\u001b[0m\u001b[1;33m\u001b[0m\u001b[1;33m\u001b[0m\u001b[0m\n\u001b[0;32m     15\u001b[0m     \u001b[0mout\u001b[0m\u001b[1;33m[\u001b[0m\u001b[0mmath\u001b[0m\u001b[1;33m.\u001b[0m\u001b[0mfloor\u001b[0m\u001b[1;33m(\u001b[0m\u001b[0mmean_i\u001b[0m\u001b[1;33m*\u001b[0m\u001b[1;36m1000\u001b[0m\u001b[1;33m)\u001b[0m\u001b[1;33m]\u001b[0m \u001b[1;33m=\u001b[0m \u001b[0mV_nl_normalized\u001b[0m\u001b[1;33m\u001b[0m\u001b[1;33m\u001b[0m\u001b[0m\n",
      "\u001b[1;31mNameError\u001b[0m: name 'sigmoid' is not defined"
     ]
    }
   ],
   "source": [
    "import math\n",
    "\n",
    "mean_input_slider_min = 0\n",
    "mean_input_slider_step = 0.1\n",
    "mean_input_slider_max = 12\n",
    "mean_inputs = np.arange(mean_input_slider_min, mean_input_slider_max, mean_input_slider_step)\n",
    "out = dict()\n",
    "for mean_i in mean_inputs:\n",
    "    mu_pA = mu_start_pA + i * delta_mu_pA\n",
    "    input_signal = my_GWN(filter_length=T_INJECTIONS_MS, mu=mean_i, sig=sigma_pA)\n",
    "    V_lin = membrane_filter(input_signal)\n",
    "    V_nl_prefilter = na_filter(input_signal)\n",
    "    V_nl_normalized = sigmoid(V_nl_prefilter)\n",
    "    V_nl = sigmoid_scale * V_nl_normalized\n",
    "    out[math.floor(mean_i*1000)] = V_nl_normalized\n",
    "\n",
    "out.keys()"
   ]
  },
  {
   "cell_type": "code",
   "execution_count": 9,
   "metadata": {},
   "outputs": [
    {
     "output_type": "display_data",
     "data": {
      "text/plain": "interactive(children=(FloatSlider(value=1.0, description='mean input', max=30.0), FloatSlider(value=1.0, descr…",
      "application/vnd.jupyter.widget-view+json": {
       "version_major": 2,
       "version_minor": 0,
       "model_id": "e8dfc6b7663e43d8b01bb8b5b08efdeb"
      }
     },
     "metadata": {}
    }
   ],
   "source": [
    "layout = graph_objects.Layout(\n",
    "    title='Title',\n",
    "    yaxis=dict(\n",
    "        title='y'\n",
    "    ),\n",
    "    xaxis=dict(\n",
    "        title='time(ms)'\n",
    "    )\n",
    ")\n",
    "def update_plot(mean_input, sensit):\n",
    "    sigmoid_loc = 40\n",
    "    sigmoid_sensit = sensit\n",
    "    sigmoid_scale = 15.0\n",
    "    sigmoid = get_sigmoid(loc=sigmoid_loc, sensitivity=sigmoid_sensit, gain=1)\n",
    "\n",
    "    data = []\n",
    "    input_signal = my_GWN(filter_length=T_INJECTIONS_MS, mu=mean_input, sig=sigma_pA, myseed=1)\n",
    "    V_lin = membrane_filter(input_signal)\n",
    "    V_nl_prefilter = na_filter(input_signal)\n",
    "    V_nl_normalized = sigmoid(V_nl_prefilter)\n",
    "    V_nl = sigmoid_scale * V_nl_normalized\n",
    "    trace1 = graph_objects.Scatter(\n",
    "        y=V_nl_normalized[:],\n",
    "        mode='lines',\n",
    "        line=dict(\n",
    "            shape='spline'\n",
    "        )\n",
    "    )\n",
    "    fig = graph_objects.Figure(data=[trace1], layout=layout)\n",
    "    pyplot.offline.iplot(fig)\n",
    "\n",
    "sensitivity = widgets.FloatSlider(min=0.5, max=10, value=1., description='sensitivity')\n",
    "mean_input = widgets.FloatSlider(min=0, max=30, value=1., description='mean input')\n",
    "widgets.interactive(update_plot, mean_input=mean_input, sensit=sensitivity)"
   ]
  },
  {
   "cell_type": "code",
   "execution_count": null,
   "metadata": {},
   "outputs": [],
   "source": []
  }
 ]
}