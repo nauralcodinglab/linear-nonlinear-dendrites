{
 "metadata": {
  "language_info": {
   "codemirror_mode": {
    "name": "ipython",
    "version": 3
   },
   "file_extension": ".py",
   "mimetype": "text/x-python",
   "name": "python",
   "nbconvert_exporter": "python",
   "pygments_lexer": "ipython3",
   "version": "3.8.7"
  },
  "orig_nbformat": 2,
  "kernelspec": {
   "name": "python3",
   "display_name": "Python 3.8.7 64-bit",
   "metadata": {
    "interpreter": {
     "hash": "a8cf6a4b3cd25a7349f1076117eac3639a1345868d67e0f64e7ea7380a8a570a"
    }
   }
  }
 },
 "nbformat": 4,
 "nbformat_minor": 2,
 "cells": [
  {
   "cell_type": "code",
   "execution_count": 51,
   "metadata": {},
   "outputs": [],
   "source": [
    "from jupyter_dash import JupyterDash\n",
    "import scipy.io as sio\n",
    "import dash\n",
    "import dash_core_components as dcc\n",
    "import dash_html_components as html\n",
    "import pandas as pd\n",
    "import plotly.express as px\n",
    "from dash.dependencies import Input, Output\n",
    "import plotly.graph_objects as go\n",
    "import numpy as np"
   ]
  },
  {
   "cell_type": "code",
   "execution_count": 63,
   "metadata": {},
   "outputs": [],
   "source": [
    "# load data\n",
    "mat = sio.loadmat('./matlab/main/output/output.mat', squeeze_me=True)\n",
    "all_outputs = mat['out_mat']"
   ]
  },
  {
   "cell_type": "code",
   "execution_count": 64,
   "metadata": {},
   "outputs": [
    {
     "output_type": "execute_result",
     "data": {
      "text/plain": [
       "[1,\n",
       " 1.05,\n",
       " 1.1,\n",
       " 1.15,\n",
       " 1.2,\n",
       " 1.25,\n",
       " 1.3,\n",
       " 1.35,\n",
       " 1.4,\n",
       " 1.45,\n",
       " 1.5,\n",
       " 1.55,\n",
       " 1.6,\n",
       " 1.65,\n",
       " 1.7,\n",
       " 1.75,\n",
       " 1.8,\n",
       " 1.85,\n",
       " 1.9,\n",
       " 1.95,\n",
       " 2]"
      ]
     },
     "metadata": {},
     "execution_count": 64
    }
   ],
   "source": [
    "peak_params = sorted(list(set(all_outputs['peak'])))\n",
    "n_peak_params = len(peak_params)\n",
    "min_peak = min(peak_params)\n",
    "max_peak = max(peak_params)\n",
    "peak_params"
   ]
  },
  {
   "cell_type": "code",
   "execution_count": 65,
   "metadata": {},
   "outputs": [
    {
     "output_type": "execute_result",
     "data": {
      "text/plain": [
       "[1.9, 2, 2.1]"
      ]
     },
     "metadata": {},
     "execution_count": 65
    }
   ],
   "source": [
    "loc_params = sorted(list(set(all_outputs['loc'])))\n",
    "n_loc_params = len(loc_params)\n",
    "min_loc = min(loc_params)\n",
    "max_loc = max(loc_params)\n",
    "loc_params"
   ]
  },
  {
   "cell_type": "code",
   "execution_count": 66,
   "metadata": {},
   "outputs": [
    {
     "output_type": "execute_result",
     "data": {
      "text/plain": [
       "[3]"
      ]
     },
     "metadata": {},
     "execution_count": 66
    }
   ],
   "source": [
    "gain_params = sorted(list(set(all_outputs['gain'])))\n",
    "n_gain_params = len(gain_params)\n",
    "min_gain = min(gain_params)\n",
    "max_gain = max(gain_params)\n",
    "gain_params"
   ]
  },
  {
   "cell_type": "code",
   "execution_count": 67,
   "metadata": {},
   "outputs": [
    {
     "output_type": "execute_result",
     "data": {
      "text/plain": [
       "[0.3, 0.31, 0.32, 0.32999999999999996, 0.33999999999999997, 0.35]"
      ]
     },
     "metadata": {},
     "execution_count": 67
    }
   ],
   "source": [
    "sensit_params = sorted(list(set(all_outputs['sensit'])))\n",
    "n_sensit_params = len(sensit_params)\n",
    "min_sensit = min(sensit_params)\n",
    "max_sensit = max(sensit_params)\n",
    "sensit_params\n"
   ]
  },
  {
   "cell_type": "code",
   "execution_count": 68,
   "metadata": {},
   "outputs": [
    {
     "output_type": "execute_result",
     "data": {
      "text/plain": [
       "[1.5]"
      ]
     },
     "metadata": {},
     "execution_count": 68
    }
   ],
   "source": [
    "pulse_height_params = sorted(list(set(all_outputs['pulse_height'])))\n",
    "n_pulse_height_params = len(pulse_height_params)\n",
    "min_pulse_height = min(pulse_height_params)\n",
    "max_pulse_height = max(pulse_height_params)\n",
    "pulse_height_params"
   ]
  },
  {
   "cell_type": "code",
   "execution_count": 69,
   "metadata": {},
   "outputs": [
    {
     "output_type": "execute_result",
     "data": {
      "text/plain": [
       "[0.23, 0.24, 0.25]"
      ]
     },
     "metadata": {},
     "execution_count": 69
    }
   ],
   "source": [
    "soma_thresh_params = sorted(list(set(all_outputs['soma_thresh'])))\n",
    "n_soma_thresh_params = len(soma_thresh_params)\n",
    "min_soma_thresh = min(soma_thresh_params)\n",
    "max_soma_thresh = max(soma_thresh_params)\n",
    "soma_thresh_params"
   ]
  },
  {
   "cell_type": "code",
   "execution_count": 70,
   "metadata": {},
   "outputs": [],
   "source": [
    "marks_peak = {}\n",
    "for peak in peak_params:\n",
    "    marks_peak[peak] = str(peak)\n",
    "marks_loc = {}\n",
    "for loc in loc_params:\n",
    "    marks_loc[loc] = str(loc)\n",
    "marks_gain = {}\n",
    "for gain in gain_params:\n",
    "    marks_gain[gain] = str(gain)\n",
    "marks_sensit = {}\n",
    "for sensit in sensit_params:\n",
    "    marks_sensit[sensit] = str(sensit)\n",
    "marks_pulse_height = {}\n",
    "for pulse_height in pulse_height_params:\n",
    "    marks_pulse_height[pulse_height] = str(pulse_height)\n",
    "marks_soma_thresh = {}\n",
    "for soma_thresh in soma_thresh_params:\n",
    "    marks_soma_thresh[soma_thresh] = str(soma_thresh)\n"
   ]
  },
  {
   "cell_type": "code",
   "execution_count": 71,
   "metadata": {
    "tags": []
   },
   "outputs": [],
   "source": [
    "from collections import defaultdict\n",
    "data_hashed = defaultdict(lambda: defaultdict(lambda: np.ndarray(0)))\n",
    "for out in all_outputs:\n",
    "    peak = out['peak']\n",
    "    loc = out['loc']\n",
    "    gain = out['gain']\n",
    "    sensit = out['sensit']\n",
    "    pulse_height = out['pulse_height']\n",
    "    soma_thresh = out['soma_thresh']\n",
    "\n",
    "    hash_input = str(peak) + str(loc) + str(gain) + str(sensit) + str(pulse_height) + str(soma_thresh)\n",
    "    data_hashed[hash_input]['Vs'] = out['Vs']\n",
    "    data_hashed[hash_input]['Vd'] = out['Vd']\n",
    "    data_hashed[hash_input]['Vd_lin'] = out['Vd_lin']\n",
    "    data_hashed[hash_input]['Vs_lin'] = out['Vs_lin']\n",
    "    data_hashed[hash_input]['Vs_nl'] = out['Vs_nl']\n",
    "    data_hashed[hash_input]['time'] = out['time']\n",
    "    data_hashed[hash_input]['input'] = out['input']\n",
    "\n",
    "    data_hashed[hash_input]['peak'] = out['peak']\n",
    "    data_hashed[hash_input]['loc'] = out['loc']\n",
    "    data_hashed[hash_input]['gain'] = out['gain']\n",
    "    data_hashed[hash_input]['sensit'] = out['sensit']\n",
    "    data_hashed[hash_input]['pulse_height'] = out['pulse_height']\n",
    "    data_hashed[hash_input]['soma_thresh'] = out['soma_thresh']\n"
   ]
  },
  {
   "cell_type": "code",
   "execution_count": 72,
   "metadata": {},
   "outputs": [
    {
     "output_type": "stream",
     "name": "stdout",
     "text": [
      "Dash app running on http://127.0.0.1:8050/\n"
     ]
    }
   ],
   "source": [
    "# Load Data\n",
    "df = px.data.tips()\n",
    "# Build App\n",
    "app = JupyterDash(__name__)\n",
    "app.layout = html.Div([\n",
    "    html.H1(\"JupyterDash Demo\"),\n",
    "    dcc.Graph(id='graph'),\n",
    "    html.Label([\n",
    "        'peak amplitude',\n",
    "        dcc.Slider(\n",
    "            id='peak-slider',\n",
    "            min=min_peak,\n",
    "            max=max_peak,\n",
    "            step=None,\n",
    "            marks=marks_peak,\n",
    "            value=min_peak,\n",
    "            updatemode='drag'\n",
    "        )\n",
    "    ]),\n",
    "        html.Label([\n",
    "        'loc sigmoid',\n",
    "        dcc.Slider(\n",
    "            id='loc-slider',\n",
    "            min=min_loc,\n",
    "            max=max_loc,\n",
    "            step=None,\n",
    "            marks=marks_loc,\n",
    "            value=min_loc,\n",
    "            updatemode='drag'\n",
    "        )\n",
    "    ]),\n",
    "        html.Label([\n",
    "        'gain sigmoid',\n",
    "        dcc.Slider(\n",
    "            id='gain-slider',\n",
    "            min=min_gain,\n",
    "            max=max_gain,\n",
    "            step=None,\n",
    "            marks=marks_gain,\n",
    "            value=min_gain,\n",
    "            updatemode='drag'\n",
    "        )\n",
    "    ]),\n",
    "        html.Label([\n",
    "        'sensit sigmoid',\n",
    "        dcc.Slider(\n",
    "            id='sensit-slider',\n",
    "            min=min_sensit,\n",
    "            max=max_sensit,\n",
    "            step=None,\n",
    "            marks=marks_sensit,\n",
    "            value=min_sensit,\n",
    "            updatemode='drag'\n",
    "        )\n",
    "    ]),\n",
    "        html.Label([\n",
    "        'pulse height',\n",
    "        dcc.Slider(\n",
    "            id='pulse-height-slider',\n",
    "            min=min_pulse_height,\n",
    "            max=max_pulse_height,\n",
    "            step=None,\n",
    "            marks=marks_pulse_height,\n",
    "            value=min_pulse_height,\n",
    "            updatemode='drag'\n",
    "        )\n",
    "    ]),\n",
    "        html.Label([\n",
    "        'soma threshold',\n",
    "        dcc.Slider(\n",
    "            id='soma-thresh-slider',\n",
    "            min=min_soma_thresh,\n",
    "            max=max_soma_thresh,\n",
    "            step=None,\n",
    "            marks=marks_soma_thresh,\n",
    "            value=min_soma_thresh,\n",
    "            updatemode='drag'\n",
    "        )\n",
    "    ]),\n",
    "    html.Div(id='slider-output-container'),\n",
    "])\n",
    "# Define callback to update graph\n",
    "@app.callback(\n",
    "    Output('slider-output-container', 'children'),\n",
    "    [\n",
    "        Input('peak-slider', 'value'),\n",
    "        Input('loc-slider', 'value'),\n",
    "        Input('gain-slider', 'value'),\n",
    "        Input('sensit-slider', 'value'),\n",
    "        Input('pulse-height-slider', 'value'),\n",
    "        Input('soma-thresh-slider', 'value'),\n",
    "    ]\n",
    ")\n",
    "def display_hash(peak, loc, gain, sensit, pulse_height, soma_thresh):\n",
    "    return str(peak) + str(loc) + str(gain) + str(sensit) + str(pulse_height) + str(soma_thresh)\n",
    "\n",
    "# Define callback to update graph\n",
    "@app.callback(\n",
    "    Output('graph', 'figure'),\n",
    "    [\n",
    "        Input('peak-slider', 'value'),\n",
    "        Input('loc-slider', 'value'),\n",
    "        Input('gain-slider', 'value'),\n",
    "        Input('sensit-slider', 'value'),\n",
    "        Input('pulse-height-slider', 'value'),\n",
    "        Input('soma-thresh-slider', 'value'),\n",
    "    ]\n",
    ")\n",
    "def update_figure(peak, loc, gain, sensit, pulse_height, soma_thresh):\n",
    "    layout = go.Layout(\n",
    "        title='Voltages when given EPSC',\n",
    "        yaxis=dict(\n",
    "            title='voltage'\n",
    "        ),\n",
    "        xaxis=dict(\n",
    "            title='time(ms)'\n",
    "        )\n",
    "    )\n",
    "    hash_input = str(peak) + str(loc) + str(gain) + str(sensit) + str(pulse_height) + str(soma_thresh)\n",
    "    Vs = data_hashed[hash_input]['Vs']\n",
    "    Vd = data_hashed[hash_input]['Vd']\n",
    "    Vd_lin = data_hashed[hash_input]['Vd_lin']\n",
    "    t = data_hashed[hash_input]['time']\n",
    "    input_pulse = data_hashed[hash_input]['input']\n",
    "    trace1 = go.Scatter(\n",
    "        x=t,\n",
    "        y=Vd,\n",
    "        mode='lines',\n",
    "        line=dict(\n",
    "            shape='spline'\n",
    "        ),\n",
    "        name='Vd'\n",
    "    )\n",
    "    trace2 = go.Scatter(\n",
    "        x=t,\n",
    "        y=Vs,\n",
    "        mode='lines',\n",
    "        line=dict(\n",
    "            shape='spline'\n",
    "        ),\n",
    "        name='Vs'\n",
    "    )\n",
    "    trace3 = go.Scatter(\n",
    "        x=t,\n",
    "        y=input_pulse,\n",
    "        mode='lines',\n",
    "        line=dict(\n",
    "            shape='spline'\n",
    "        )\n",
    "    )\n",
    "    trace4 = go.Scatter(\n",
    "        x=t,\n",
    "        y=Vd_lin,\n",
    "        mode='lines',\n",
    "        line=dict(\n",
    "            shape='spline'\n",
    "        ),\n",
    "        name='Vd_lin'\n",
    "    )\n",
    "    fig = go.Figure(data=[trace1, trace2, trace4], layout=layout)\n",
    "    return fig\n",
    "# Run app and display result inline in the notebook\n",
    "app.run_server(mode='external')"
   ]
  },
  {
   "cell_type": "code",
   "execution_count": 73,
   "metadata": {},
   "outputs": [],
   "source": [
    "# desired params #1\n",
    "hash1 = \"1230.321.50.23\"\n",
    "hash2 = \"1.3230.321.50.23\"\n",
    "hash3 = \"1.6230.321.50.23\"\n",
    "hash4 = \"1.7230.321.50.23\"\n",
    "hash5 = \"1.8230.321.50.23\"\n",
    "trace_hashes = [hash2, hash3, hash4]"
   ]
  },
  {
   "cell_type": "code",
   "execution_count": 74,
   "metadata": {},
   "outputs": [],
   "source": [
    "cleaned_output = []\n",
    "for h in trace_hashes:\n",
    "    trace = {}\n",
    "    trace['Vs'] = data_hashed[h]['Vs']\n",
    "    trace['Vd'] = data_hashed[h]['Vd']\n",
    "    trace['Vd_lin'] = data_hashed[h]['Vd_lin']\n",
    "    trace['Vs_lin'] = data_hashed[h]['Vs_lin']\n",
    "    trace['Vs_nl'] = data_hashed[h]['Vs_nl']\n",
    "    trace['time'] = data_hashed[h]['time']\n",
    "    trace['input'] = data_hashed[h]['input']\n",
    "\n",
    "    trace['peak'] = data_hashed[h]['peak']\n",
    "    trace['loc'] = data_hashed[h]['loc']\n",
    "    trace['gain'] = data_hashed[h]['gain']\n",
    "    trace['sensit'] = data_hashed[h]['sensit']\n",
    "    trace['pulse_height'] = data_hashed[h]['pulse_height']\n",
    "    trace['soma_thresh'] = data_hashed[h]['soma_thresh']\n",
    "    cleaned_output.append(trace)\n"
   ]
  },
  {
   "cell_type": "code",
   "execution_count": 75,
   "metadata": {},
   "outputs": [],
   "source": [
    "import pickle"
   ]
  },
  {
   "cell_type": "code",
   "execution_count": 76,
   "metadata": {},
   "outputs": [],
   "source": [
    "# export\n",
    "output_file = './datasets/dataset2.pickle'\n",
    "with open(output_file, 'wb') as file:\n",
    "    pickle.dump(cleaned_output, file)"
   ]
  },
  {
   "cell_type": "code",
   "execution_count": null,
   "metadata": {},
   "outputs": [],
   "source": []
  }
 ]
}