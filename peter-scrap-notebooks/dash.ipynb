{
 "metadata": {
  "language_info": {
   "codemirror_mode": {
    "name": "ipython",
    "version": 3
   },
   "file_extension": ".py",
   "mimetype": "text/x-python",
   "name": "python",
   "nbconvert_exporter": "python",
   "pygments_lexer": "ipython3",
   "version": "3.8.7"
  },
  "orig_nbformat": 2,
  "kernelspec": {
   "name": "python3",
   "display_name": "Python 3.8.7 64-bit",
   "metadata": {
    "interpreter": {
     "hash": "a8cf6a4b3cd25a7349f1076117eac3639a1345868d67e0f64e7ea7380a8a570a"
    }
   }
  }
 },
 "nbformat": 4,
 "nbformat_minor": 2,
 "cells": [
  {
   "cell_type": "code",
   "execution_count": 2,
   "metadata": {},
   "outputs": [],
   "source": [
    "from jupyter_dash import JupyterDash\n",
    "import scipy.io as sio\n",
    "import dash\n",
    "import dash_core_components as dcc\n",
    "import dash_html_components as html\n",
    "import pandas as pd\n",
    "import plotly.express as px\n",
    "from dash.dependencies import Input, Output\n",
    "import plotly.graph_objects as go\n",
    "import numpy as np"
   ]
  },
  {
   "cell_type": "code",
   "execution_count": 3,
   "metadata": {},
   "outputs": [],
   "source": [
    "# load data\n",
    "mat = sio.loadmat('./matlab/main/output/output.mat', squeeze_me=True)\n",
    "all_outputs = mat['out_mat']"
   ]
  },
  {
   "cell_type": "code",
   "execution_count": 4,
   "metadata": {},
   "outputs": [
    {
     "output_type": "execute_result",
     "data": {
      "text/plain": [
       "[1,\n",
       " 1.05,\n",
       " 1.1,\n",
       " 1.15,\n",
       " 1.2,\n",
       " 1.25,\n",
       " 1.3,\n",
       " 1.35,\n",
       " 1.4,\n",
       " 1.45,\n",
       " 1.5,\n",
       " 1.55,\n",
       " 1.6,\n",
       " 1.65,\n",
       " 1.7,\n",
       " 1.75,\n",
       " 1.8,\n",
       " 1.85,\n",
       " 1.9,\n",
       " 1.95,\n",
       " 2]"
      ]
     },
     "metadata": {},
     "execution_count": 4
    }
   ],
   "source": [
    "peak_params = sorted(list(set(all_outputs['peak'])))\n",
    "n_peak_params = len(peak_params)\n",
    "min_peak = min(peak_params)\n",
    "max_peak = max(peak_params)\n",
    "peak_params"
   ]
  },
  {
   "cell_type": "code",
   "execution_count": 5,
   "metadata": {},
   "outputs": [
    {
     "output_type": "execute_result",
     "data": {
      "text/plain": [
       "[1.9, 2, 2.1]"
      ]
     },
     "metadata": {},
     "execution_count": 5
    }
   ],
   "source": [
    "loc_params = sorted(list(set(all_outputs['loc'])))\n",
    "n_loc_params = len(loc_params)\n",
    "min_loc = min(loc_params)\n",
    "max_loc = max(loc_params)\n",
    "loc_params"
   ]
  },
  {
   "cell_type": "code",
   "execution_count": 6,
   "metadata": {},
   "outputs": [
    {
     "output_type": "execute_result",
     "data": {
      "text/plain": [
       "[3]"
      ]
     },
     "metadata": {},
     "execution_count": 6
    }
   ],
   "source": [
    "gain_params = sorted(list(set(all_outputs['gain'])))\n",
    "n_gain_params = len(gain_params)\n",
    "min_gain = min(gain_params)\n",
    "max_gain = max(gain_params)\n",
    "gain_params"
   ]
  },
  {
   "cell_type": "code",
   "execution_count": 7,
   "metadata": {},
   "outputs": [
    {
     "output_type": "execute_result",
     "data": {
      "text/plain": [
       "[0.3, 0.31, 0.32, 0.32999999999999996, 0.33999999999999997, 0.35]"
      ]
     },
     "metadata": {},
     "execution_count": 7
    }
   ],
   "source": [
    "sensit_params = sorted(list(set(all_outputs['sensit'])))\n",
    "n_sensit_params = len(sensit_params)\n",
    "min_sensit = min(sensit_params)\n",
    "max_sensit = max(sensit_params)\n",
    "sensit_params\n"
   ]
  },
  {
   "cell_type": "code",
   "execution_count": 8,
   "metadata": {},
   "outputs": [
    {
     "output_type": "execute_result",
     "data": {
      "text/plain": [
       "[1.5]"
      ]
     },
     "metadata": {},
     "execution_count": 8
    }
   ],
   "source": [
    "pulse_height_params = sorted(list(set(all_outputs['pulse_height'])))\n",
    "n_pulse_height_params = len(pulse_height_params)\n",
    "min_pulse_height = min(pulse_height_params)\n",
    "max_pulse_height = max(pulse_height_params)\n",
    "pulse_height_params"
   ]
  },
  {
   "cell_type": "code",
   "execution_count": 9,
   "metadata": {},
   "outputs": [
    {
     "output_type": "execute_result",
     "data": {
      "text/plain": [
       "[0.23, 0.24, 0.25]"
      ]
     },
     "metadata": {},
     "execution_count": 9
    }
   ],
   "source": [
    "soma_thresh_params = sorted(list(set(all_outputs['soma_thresh'])))\n",
    "n_soma_thresh_params = len(soma_thresh_params)\n",
    "min_soma_thresh = min(soma_thresh_params)\n",
    "max_soma_thresh = max(soma_thresh_params)\n",
    "soma_thresh_params"
   ]
  },
  {
   "cell_type": "code",
   "execution_count": 10,
   "metadata": {},
   "outputs": [],
   "source": [
    "marks_peak = {}\n",
    "for peak in peak_params:\n",
    "    marks_peak[peak] = str(peak)\n",
    "marks_loc = {}\n",
    "for loc in loc_params:\n",
    "    marks_loc[loc] = str(loc)\n",
    "marks_gain = {}\n",
    "for gain in gain_params:\n",
    "    marks_gain[gain] = str(gain)\n",
    "marks_sensit = {}\n",
    "for sensit in sensit_params:\n",
    "    marks_sensit[sensit] = str(sensit)\n",
    "marks_pulse_height = {}\n",
    "for pulse_height in pulse_height_params:\n",
    "    marks_pulse_height[pulse_height] = str(pulse_height)\n",
    "marks_soma_thresh = {}\n",
    "for soma_thresh in soma_thresh_params:\n",
    "    marks_soma_thresh[soma_thresh] = str(soma_thresh)\n"
   ]
  },
  {
   "cell_type": "code",
   "execution_count": 11,
   "metadata": {
    "tags": []
   },
   "outputs": [],
   "source": [
    "from collections import defaultdict\n",
    "data_hashed = defaultdict(lambda: defaultdict(lambda: np.ndarray(0)))\n",
    "for out in all_outputs:\n",
    "    peak = out['peak']\n",
    "    loc = out['loc']\n",
    "    gain = out['gain']\n",
    "    sensit = out['sensit']\n",
    "    pulse_height = out['pulse_height']\n",
    "    soma_thresh = out['soma_thresh']\n",
    "\n",
    "    hash_input = str(peak) + str(loc) + str(gain) + str(sensit) + str(pulse_height) + str(soma_thresh)\n",
    "    data_hashed[hash_input]['Vs'] = out['Vs']\n",
    "    data_hashed[hash_input]['Vd'] = out['Vd']\n",
    "    data_hashed[hash_input]['Vd_lin'] = out['Vd_lin']\n",
    "    data_hashed[hash_input]['time'] = out['time']\n",
    "    data_hashed[hash_input]['input'] = out['input']\n",
    "\n",
    "    data_hashed[hash_input]['peak'] = out['peak']\n",
    "    data_hashed[hash_input]['loc'] = out['loc']\n",
    "    data_hashed[hash_input]['gain'] = out['gain']\n",
    "    data_hashed[hash_input]['sensit'] = out['sensit']\n",
    "    data_hashed[hash_input]['pulse_height'] = out['pulse_height']\n",
    "    data_hashed[hash_input]['soma_thresh'] = out['soma_thresh']\n"
   ]
  },
  {
   "cell_type": "code",
   "execution_count": 12,
   "metadata": {},
   "outputs": [
    {
     "output_type": "stream",
     "name": "stdout",
     "text": [
      "Dash app running on http://127.0.0.1:8050/\n"
     ]
    }
   ],
   "source": [
    "# Load Data\n",
    "df = px.data.tips()\n",
    "# Build App\n",
    "app = JupyterDash(__name__)\n",
    "app.layout = html.Div([\n",
    "    html.H1(\"JupyterDash Demo\"),\n",
    "    dcc.Graph(id='graph'),\n",
    "    html.Label([\n",
    "        'peak amplitude',\n",
    "        dcc.Slider(\n",
    "            id='peak-slider',\n",
    "            min=min_peak,\n",
    "            max=max_peak,\n",
    "            step=None,\n",
    "            marks=marks_peak,\n",
    "            value=min_peak,\n",
    "            updatemode='drag'\n",
    "        )\n",
    "    ]),\n",
    "        html.Label([\n",
    "        'loc sigmoid',\n",
    "        dcc.Slider(\n",
    "            id='loc-slider',\n",
    "            min=min_loc,\n",
    "            max=max_loc,\n",
    "            step=None,\n",
    "            marks=marks_loc,\n",
    "            value=min_loc,\n",
    "            updatemode='drag'\n",
    "        )\n",
    "    ]),\n",
    "        html.Label([\n",
    "        'gain sigmoid',\n",
    "        dcc.Slider(\n",
    "            id='gain-slider',\n",
    "            min=min_gain,\n",
    "            max=max_gain,\n",
    "            step=None,\n",
    "            marks=marks_gain,\n",
    "            value=min_gain,\n",
    "            updatemode='drag'\n",
    "        )\n",
    "    ]),\n",
    "        html.Label([\n",
    "        'sensit sigmoid',\n",
    "        dcc.Slider(\n",
    "            id='sensit-slider',\n",
    "            min=min_sensit,\n",
    "            max=max_sensit,\n",
    "            step=None,\n",
    "            marks=marks_sensit,\n",
    "            value=min_sensit,\n",
    "            updatemode='drag'\n",
    "        )\n",
    "    ]),\n",
    "        html.Label([\n",
    "        'pulse height',\n",
    "        dcc.Slider(\n",
    "            id='pulse-height-slider',\n",
    "            min=min_pulse_height,\n",
    "            max=max_pulse_height,\n",
    "            step=None,\n",
    "            marks=marks_pulse_height,\n",
    "            value=min_pulse_height,\n",
    "            updatemode='drag'\n",
    "        )\n",
    "    ]),\n",
    "        html.Label([\n",
    "        'soma threshold',\n",
    "        dcc.Slider(\n",
    "            id='soma-thresh-slider',\n",
    "            min=min_soma_thresh,\n",
    "            max=max_soma_thresh,\n",
    "            step=None,\n",
    "            marks=marks_soma_thresh,\n",
    "            value=min_soma_thresh,\n",
    "            updatemode='drag'\n",
    "        )\n",
    "    ]),\n",
    "    html.Div(id='slider-output-container'),\n",
    "])\n",
    "# Define callback to update graph\n",
    "@app.callback(\n",
    "    Output('slider-output-container', 'children'),\n",
    "    [\n",
    "        Input('peak-slider', 'value'),\n",
    "        Input('loc-slider', 'value'),\n",
    "        Input('gain-slider', 'value'),\n",
    "        Input('sensit-slider', 'value'),\n",
    "        Input('pulse-height-slider', 'value'),\n",
    "        Input('soma-thresh-slider', 'value'),\n",
    "    ]\n",
    ")\n",
    "def display_hash(peak, loc, gain, sensit, pulse_height, soma_thresh):\n",
    "    return str(peak) + str(loc) + str(gain) + str(sensit) + str(pulse_height) + str(soma_thresh)\n",
    "\n",
    "# Define callback to update graph\n",
    "@app.callback(\n",
    "    Output('graph', 'figure'),\n",
    "    [\n",
    "        Input('peak-slider', 'value'),\n",
    "        Input('loc-slider', 'value'),\n",
    "        Input('gain-slider', 'value'),\n",
    "        Input('sensit-slider', 'value'),\n",
    "        Input('pulse-height-slider', 'value'),\n",
    "        Input('soma-thresh-slider', 'value'),\n",
    "    ]\n",
    ")\n",
    "def update_figure(peak, loc, gain, sensit, pulse_height, soma_thresh):\n",
    "    layout = go.Layout(\n",
    "        title='Voltages when given EPSC',\n",
    "        yaxis=dict(\n",
    "            title='voltage'\n",
    "        ),\n",
    "        xaxis=dict(\n",
    "            title='time(ms)'\n",
    "        )\n",
    "    )\n",
    "    hash_input = str(peak) + str(loc) + str(gain) + str(sensit) + str(pulse_height) + str(soma_thresh)\n",
    "    Vs = data_hashed[hash_input]['Vs']\n",
    "    Vd = data_hashed[hash_input]['Vd']\n",
    "    Vd_lin = data_hashed[hash_input]['Vd_lin']\n",
    "    t = data_hashed[hash_input]['time']\n",
    "    input_pulse = data_hashed[hash_input]['input']\n",
    "    trace1 = go.Scatter(\n",
    "        x=t,\n",
    "        y=Vd,\n",
    "        mode='lines',\n",
    "        line=dict(\n",
    "            shape='spline'\n",
    "        ),\n",
    "        name='Vd'\n",
    "    )\n",
    "    trace2 = go.Scatter(\n",
    "        x=t,\n",
    "        y=Vs,\n",
    "        mode='lines',\n",
    "        line=dict(\n",
    "            shape='spline'\n",
    "        ),\n",
    "        name='Vs'\n",
    "    )\n",
    "    trace3 = go.Scatter(\n",
    "        x=t,\n",
    "        y=input_pulse,\n",
    "        mode='lines',\n",
    "        line=dict(\n",
    "            shape='spline'\n",
    "        )\n",
    "    )\n",
    "    trace4 = go.Scatter(\n",
    "        x=t,\n",
    "        y=Vd_lin,\n",
    "        mode='lines',\n",
    "        line=dict(\n",
    "            shape='spline'\n",
    "        ),\n",
    "        name='Vd_lin'\n",
    "    )\n",
    "    fig = go.Figure(data=[trace1, trace2, trace4], layout=layout)\n",
    "    return fig\n",
    "# Run app and display result inline in the notebook\n",
    "app.run_server(mode='external')"
   ]
  },
  {
   "cell_type": "code",
   "execution_count": 13,
   "metadata": {},
   "outputs": [],
   "source": [
    "# desired params #1\n",
    "hash1 = \"1230.321.50.23\"\n",
    "hash2 = \"1.3230.321.50.23\"\n",
    "hash3 = \"1.6230.321.50.23\"\n",
    "hash4 = \"1.7230.321.50.23\"\n",
    "hash5 = \"1.8230.321.50.23\"\n",
    "trace_hashes = [hash2, hash3, hash4]"
   ]
  },
  {
   "cell_type": "code",
   "execution_count": 14,
   "metadata": {},
   "outputs": [],
   "source": [
    "cleaned_output = []\n",
    "for h in trace_hashes:\n",
    "    trace = {}\n",
    "    trace['Vs'] = data_hashed[h]['Vs']\n",
    "    trace['Vd'] = data_hashed[h]['Vd']\n",
    "    trace['Vd_lin'] = data_hashed[h]['Vd_lin']\n",
    "    trace['time'] = data_hashed[h]['time']\n",
    "    trace['input'] = data_hashed[h]['input']\n",
    "\n",
    "    trace['peak'] = data_hashed[h]['peak']\n",
    "    trace['loc'] = data_hashed[h]['loc']\n",
    "    trace['gain'] = data_hashed[h]['gain']\n",
    "    trace['sensit'] = data_hashed[h]['sensit']\n",
    "    trace['pulse_height'] = data_hashed[h]['pulse_height']\n",
    "    trace['soma_thresh'] = data_hashed[h]['soma_thresh']\n",
    "    cleaned_output.append(trace)\n"
   ]
  },
  {
   "cell_type": "code",
   "execution_count": 15,
   "metadata": {},
   "outputs": [
    {
     "output_type": "execute_result",
     "data": {
      "text/plain": [
       "array([0.        , 0.00020095, 0.00120571])"
      ]
     },
     "metadata": {},
     "execution_count": 15
    }
   ],
   "source": [
    "cleaned_output[0]['time'][:3]"
   ]
  },
  {
   "cell_type": "code",
   "execution_count": 16,
   "metadata": {},
   "outputs": [],
   "source": [
    "import matplotlib.pyplot as plt\n",
    "from ezephys import pltools"
   ]
  },
  {
   "cell_type": "code",
   "execution_count": 39,
   "metadata": {},
   "outputs": [
    {
     "output_type": "execute_result",
     "data": {
      "text/plain": [
       "<matplotlib.legend.Legend at 0x25fced1e760>"
      ]
     },
     "metadata": {},
     "execution_count": 39
    },
    {
     "output_type": "display_data",
     "data": {
      "text/plain": "<Figure size 360x720 with 1 Axes>",
      "image/svg+xml": "<?xml version=\"1.0\" encoding=\"utf-8\" standalone=\"no\"?>\r\n<!DOCTYPE svg PUBLIC \"-//W3C//DTD SVG 1.1//EN\"\r\n  \"http://www.w3.org/Graphics/SVG/1.1/DTD/svg11.dtd\">\r\n<!-- Created with matplotlib (https://matplotlib.org/) -->\r\n<svg height=\"574.678125pt\" version=\"1.1\" viewBox=\"0 0 293.4 574.678125\" width=\"293.4pt\" xmlns=\"http://www.w3.org/2000/svg\" xmlns:xlink=\"http://www.w3.org/1999/xlink\">\r\n <metadata>\r\n  <rdf:RDF xmlns:cc=\"http://creativecommons.org/ns#\" xmlns:dc=\"http://purl.org/dc/elements/1.1/\" xmlns:rdf=\"http://www.w3.org/1999/02/22-rdf-syntax-ns#\">\r\n   <cc:Work>\r\n    <dc:type rdf:resource=\"http://purl.org/dc/dcmitype/StillImage\"/>\r\n    <dc:date>2021-02-19T01:25:43.583932</dc:date>\r\n    <dc:format>image/svg+xml</dc:format>\r\n    <dc:creator>\r\n     <cc:Agent>\r\n      <dc:title>Matplotlib v3.3.4, https://matplotlib.org/</dc:title>\r\n     </cc:Agent>\r\n    </dc:creator>\r\n   </cc:Work>\r\n  </rdf:RDF>\r\n </metadata>\r\n <defs>\r\n  <style type=\"text/css\">*{stroke-linecap:butt;stroke-linejoin:round;}</style>\r\n </defs>\r\n <g id=\"figure_1\">\r\n  <g id=\"patch_1\">\r\n   <path d=\"M 0 574.678125 \r\nL 293.4 574.678125 \r\nL 293.4 0 \r\nL 0 0 \r\nz\r\n\" style=\"fill:none;\"/>\r\n  </g>\r\n  <g id=\"axes_1\">\r\n   <g id=\"patch_2\">\r\n    <path d=\"M 7.2 550.8 \r\nL 286.2 550.8 \r\nL 286.2 7.2 \r\nL 7.2 7.2 \r\nz\r\n\" style=\"fill:#ffffff;\"/>\r\n   </g>\r\n   <g id=\"matplotlib.axis_1\">\r\n    <g id=\"xtick_1\">\r\n     <g id=\"line2d_1\">\r\n      <defs>\r\n       <path d=\"M 0 0 \r\nL 0 3.5 \r\n\" id=\"md8485d9a63\" style=\"stroke:#000000;stroke-width:0.8;\"/>\r\n      </defs>\r\n      <g>\r\n       <use style=\"stroke:#000000;stroke-width:0.8;\" x=\"19.881818\" xlink:href=\"#md8485d9a63\" y=\"550.8\"/>\r\n      </g>\r\n     </g>\r\n     <g id=\"text_1\">\r\n      <!-- 0 -->\r\n      <g transform=\"translate(16.700568 565.398438)scale(0.1 -0.1)\">\r\n       <defs>\r\n        <path d=\"M 31.78125 66.40625 \r\nQ 24.171875 66.40625 20.328125 58.90625 \r\nQ 16.5 51.421875 16.5 36.375 \r\nQ 16.5 21.390625 20.328125 13.890625 \r\nQ 24.171875 6.390625 31.78125 6.390625 \r\nQ 39.453125 6.390625 43.28125 13.890625 \r\nQ 47.125 21.390625 47.125 36.375 \r\nQ 47.125 51.421875 43.28125 58.90625 \r\nQ 39.453125 66.40625 31.78125 66.40625 \r\nz\r\nM 31.78125 74.21875 \r\nQ 44.046875 74.21875 50.515625 64.515625 \r\nQ 56.984375 54.828125 56.984375 36.375 \r\nQ 56.984375 17.96875 50.515625 8.265625 \r\nQ 44.046875 -1.421875 31.78125 -1.421875 \r\nQ 19.53125 -1.421875 13.0625 8.265625 \r\nQ 6.59375 17.96875 6.59375 36.375 \r\nQ 6.59375 54.828125 13.0625 64.515625 \r\nQ 19.53125 74.21875 31.78125 74.21875 \r\nz\r\n\" id=\"DejaVuSans-48\"/>\r\n       </defs>\r\n       <use xlink:href=\"#DejaVuSans-48\"/>\r\n      </g>\r\n     </g>\r\n    </g>\r\n    <g id=\"xtick_2\">\r\n     <g id=\"line2d_2\">\r\n      <g>\r\n       <use style=\"stroke:#000000;stroke-width:0.8;\" x=\"70.731129\" xlink:href=\"#md8485d9a63\" y=\"550.8\"/>\r\n      </g>\r\n     </g>\r\n     <g id=\"text_2\">\r\n      <!-- 5 -->\r\n      <g transform=\"translate(67.549879 565.398438)scale(0.1 -0.1)\">\r\n       <defs>\r\n        <path d=\"M 10.796875 72.90625 \r\nL 49.515625 72.90625 \r\nL 49.515625 64.59375 \r\nL 19.828125 64.59375 \r\nL 19.828125 46.734375 \r\nQ 21.96875 47.46875 24.109375 47.828125 \r\nQ 26.265625 48.1875 28.421875 48.1875 \r\nQ 40.625 48.1875 47.75 41.5 \r\nQ 54.890625 34.8125 54.890625 23.390625 \r\nQ 54.890625 11.625 47.5625 5.09375 \r\nQ 40.234375 -1.421875 26.90625 -1.421875 \r\nQ 22.3125 -1.421875 17.546875 -0.640625 \r\nQ 12.796875 0.140625 7.71875 1.703125 \r\nL 7.71875 11.625 \r\nQ 12.109375 9.234375 16.796875 8.0625 \r\nQ 21.484375 6.890625 26.703125 6.890625 \r\nQ 35.15625 6.890625 40.078125 11.328125 \r\nQ 45.015625 15.765625 45.015625 23.390625 \r\nQ 45.015625 31 40.078125 35.4375 \r\nQ 35.15625 39.890625 26.703125 39.890625 \r\nQ 22.75 39.890625 18.8125 39.015625 \r\nQ 14.890625 38.140625 10.796875 36.28125 \r\nz\r\n\" id=\"DejaVuSans-53\"/>\r\n       </defs>\r\n       <use xlink:href=\"#DejaVuSans-53\"/>\r\n      </g>\r\n     </g>\r\n    </g>\r\n    <g id=\"xtick_3\">\r\n     <g id=\"line2d_3\">\r\n      <g>\r\n       <use style=\"stroke:#000000;stroke-width:0.8;\" x=\"121.58044\" xlink:href=\"#md8485d9a63\" y=\"550.8\"/>\r\n      </g>\r\n     </g>\r\n     <g id=\"text_3\">\r\n      <!-- 10 -->\r\n      <g transform=\"translate(115.21794 565.398438)scale(0.1 -0.1)\">\r\n       <defs>\r\n        <path d=\"M 12.40625 8.296875 \r\nL 28.515625 8.296875 \r\nL 28.515625 63.921875 \r\nL 10.984375 60.40625 \r\nL 10.984375 69.390625 \r\nL 28.421875 72.90625 \r\nL 38.28125 72.90625 \r\nL 38.28125 8.296875 \r\nL 54.390625 8.296875 \r\nL 54.390625 0 \r\nL 12.40625 0 \r\nz\r\n\" id=\"DejaVuSans-49\"/>\r\n       </defs>\r\n       <use xlink:href=\"#DejaVuSans-49\"/>\r\n       <use x=\"63.623047\" xlink:href=\"#DejaVuSans-48\"/>\r\n      </g>\r\n     </g>\r\n    </g>\r\n    <g id=\"xtick_4\">\r\n     <g id=\"line2d_4\">\r\n      <g>\r\n       <use style=\"stroke:#000000;stroke-width:0.8;\" x=\"172.429751\" xlink:href=\"#md8485d9a63\" y=\"550.8\"/>\r\n      </g>\r\n     </g>\r\n     <g id=\"text_4\">\r\n      <!-- 15 -->\r\n      <g transform=\"translate(166.067251 565.398438)scale(0.1 -0.1)\">\r\n       <use xlink:href=\"#DejaVuSans-49\"/>\r\n       <use x=\"63.623047\" xlink:href=\"#DejaVuSans-53\"/>\r\n      </g>\r\n     </g>\r\n    </g>\r\n    <g id=\"xtick_5\">\r\n     <g id=\"line2d_5\">\r\n      <g>\r\n       <use style=\"stroke:#000000;stroke-width:0.8;\" x=\"223.279062\" xlink:href=\"#md8485d9a63\" y=\"550.8\"/>\r\n      </g>\r\n     </g>\r\n     <g id=\"text_5\">\r\n      <!-- 20 -->\r\n      <g transform=\"translate(216.916562 565.398438)scale(0.1 -0.1)\">\r\n       <defs>\r\n        <path d=\"M 19.1875 8.296875 \r\nL 53.609375 8.296875 \r\nL 53.609375 0 \r\nL 7.328125 0 \r\nL 7.328125 8.296875 \r\nQ 12.9375 14.109375 22.625 23.890625 \r\nQ 32.328125 33.6875 34.8125 36.53125 \r\nQ 39.546875 41.84375 41.421875 45.53125 \r\nQ 43.3125 49.21875 43.3125 52.78125 \r\nQ 43.3125 58.59375 39.234375 62.25 \r\nQ 35.15625 65.921875 28.609375 65.921875 \r\nQ 23.96875 65.921875 18.8125 64.3125 \r\nQ 13.671875 62.703125 7.8125 59.421875 \r\nL 7.8125 69.390625 \r\nQ 13.765625 71.78125 18.9375 73 \r\nQ 24.125 74.21875 28.421875 74.21875 \r\nQ 39.75 74.21875 46.484375 68.546875 \r\nQ 53.21875 62.890625 53.21875 53.421875 \r\nQ 53.21875 48.921875 51.53125 44.890625 \r\nQ 49.859375 40.875 45.40625 35.40625 \r\nQ 44.1875 33.984375 37.640625 27.21875 \r\nQ 31.109375 20.453125 19.1875 8.296875 \r\nz\r\n\" id=\"DejaVuSans-50\"/>\r\n       </defs>\r\n       <use xlink:href=\"#DejaVuSans-50\"/>\r\n       <use x=\"63.623047\" xlink:href=\"#DejaVuSans-48\"/>\r\n      </g>\r\n     </g>\r\n    </g>\r\n    <g id=\"xtick_6\">\r\n     <g id=\"line2d_6\">\r\n      <g>\r\n       <use style=\"stroke:#000000;stroke-width:0.8;\" x=\"274.128374\" xlink:href=\"#md8485d9a63\" y=\"550.8\"/>\r\n      </g>\r\n     </g>\r\n     <g id=\"text_6\">\r\n      <!-- 25 -->\r\n      <g transform=\"translate(267.765874 565.398438)scale(0.1 -0.1)\">\r\n       <use xlink:href=\"#DejaVuSans-50\"/>\r\n       <use x=\"63.623047\" xlink:href=\"#DejaVuSans-53\"/>\r\n      </g>\r\n     </g>\r\n    </g>\r\n   </g>\r\n   <g id=\"matplotlib.axis_2\"/>\r\n   <g id=\"line2d_7\">\r\n    <path clip-path=\"url(#p604722dce7)\" d=\"M 19.881818 525.047738 \r\nL 20.962157 524.945579 \r\nL 22.182541 524.602926 \r\nL 23.504623 523.989775 \r\nL 24.928404 523.079408 \r\nL 26.555582 521.756761 \r\nL 28.284458 520.05706 \r\nL 30.255078 517.787822 \r\nL 32.390749 514.967498 \r\nL 34.729817 511.489557 \r\nL 37.272283 507.304197 \r\nL 40.42494 501.653584 \r\nL 50.391405 483.395491 \r\nL 52.730473 479.790529 \r\nL 54.764446 477.048347 \r\nL 56.696719 474.815641 \r\nL 58.527295 473.045698 \r\nL 60.256171 471.678771 \r\nL 61.985048 470.594655 \r\nL 63.713924 469.773271 \r\nL 65.442801 469.18958 \r\nL 67.273376 468.799491 \r\nL 69.307349 468.599672 \r\nL 71.544718 468.610133 \r\nL 74.188882 468.857659 \r\nL 77.443238 469.398843 \r\nL 82.223074 470.44329 \r\nL 99.206743 474.309794 \r\nL 110.495291 476.535622 \r\nL 149.445863 483.82825 \r\nL 173.650135 488.212841 \r\nL 192.566079 491.412921 \r\nL 210.668433 494.249499 \r\nL 228.872487 496.875344 \r\nL 247.483335 499.334653 \r\nL 266.907771 501.675256 \r\nL 273.518182 502.422447 \r\nL 273.518182 502.422447 \r\n\" style=\"fill:none;stroke:#000000;stroke-linecap:square;stroke-width:1.5;\"/>\r\n   </g>\r\n   <g id=\"line2d_8\">\r\n    <path clip-path=\"url(#p604722dce7)\" d=\"M 19.881818 526.090909 \r\nL 21.063856 525.987515 \r\nL 22.385938 525.647369 \r\nL 23.809719 525.051247 \r\nL 25.436897 524.122996 \r\nL 27.267472 522.820395 \r\nL 29.504842 520.939292 \r\nL 32.28905 518.282692 \r\nL 36.255296 514.150796 \r\nL 46.526857 503.314734 \r\nL 50.594802 499.422008 \r\nL 54.255952 496.224275 \r\nL 57.713706 493.494565 \r\nL 61.06976 491.122381 \r\nL 64.425815 489.021491 \r\nL 67.781869 487.183958 \r\nL 71.137924 485.597662 \r\nL 74.595677 484.210371 \r\nL 78.155129 483.025384 \r\nL 81.816279 482.042374 \r\nL 85.680827 481.239555 \r\nL 89.748772 480.6271 \r\nL 94.020114 480.209967 \r\nL 98.596552 479.985422 \r\nL 103.579784 479.963102 \r\nL 109.173208 480.166367 \r\nL 115.376824 480.617946 \r\nL 122.597427 481.372488 \r\nL 131.241809 482.507002 \r\nL 142.530356 484.227255 \r\nL 160.836108 487.275199 \r\nL 192.667777 492.56103 \r\nL 212.295611 495.577415 \r\nL 231.211555 498.259087 \r\nL 250.330896 500.743863 \r\nL 270.060429 503.081764 \r\nL 273.518182 503.469056 \r\nL 273.518182 503.469056 \r\n\" style=\"fill:none;stroke:#ff0000;stroke-linecap:square;stroke-width:1.5;\"/>\r\n   </g>\r\n   <g id=\"line2d_9\">\r\n    <path clip-path=\"url(#p604722dce7)\" d=\"M 19.881818 526.090909 \r\nL 21.368952 525.982847 \r\nL 22.99613 525.642185 \r\nL 24.826705 525.026694 \r\nL 26.962376 524.058056 \r\nL 29.403143 522.698396 \r\nL 32.492447 520.70878 \r\nL 36.967187 517.531761 \r\nL 47.543843 509.941951 \r\nL 52.120281 506.978499 \r\nL 56.289925 504.536845 \r\nL 60.35787 502.41101 \r\nL 64.324116 500.584837 \r\nL 68.392061 498.958143 \r\nL 72.460006 497.568129 \r\nL 76.731348 496.345171 \r\nL 81.206087 495.300792 \r\nL 85.884224 494.440619 \r\nL 90.867456 493.752927 \r\nL 96.257483 493.237289 \r\nL 102.156003 492.901037 \r\nL 108.664715 492.755482 \r\nL 116.088715 492.816404 \r\nL 124.733098 493.115207 \r\nL 135.309754 493.712155 \r\nL 149.242466 494.735708 \r\nL 171.616162 496.63248 \r\nL 224.702843 501.170574 \r\nL 255.822622 503.573 \r\nL 273.518182 504.839262 \r\nL 273.518182 504.839262 \r\n\" style=\"fill:none;stroke:#000000;stroke-linecap:square;stroke-opacity:0.2;stroke-width:1.5;\"/>\r\n   </g>\r\n   <g id=\"line2d_10\">\r\n    <path clip-path=\"url(#p604722dce7)\" d=\"M 19.881818 434.811239 \r\nL 20.860459 434.707678 \r\nL 21.979144 434.35284 \r\nL 23.199527 433.706408 \r\nL 24.521609 432.73015 \r\nL 25.94539 431.386405 \r\nL 27.470869 429.635767 \r\nL 29.098047 427.433858 \r\nL 30.865269 424.66343 \r\nL 32.695845 421.379875 \r\nL 34.628118 417.452268 \r\nL 36.662091 412.803092 \r\nL 38.899461 407.099432 \r\nL 41.441926 399.96247 \r\nL 45.103076 388.912109 \r\nL 49.374419 376.147283 \r\nL 51.713487 369.859975 \r\nL 53.645761 365.290424 \r\nL 55.374637 361.774235 \r\nL 56.900117 359.158758 \r\nL 58.323897 357.14152 \r\nL 59.645979 355.632757 \r\nL 60.968062 354.464349 \r\nL 62.188445 353.673232 \r\nL 63.408828 353.140134 \r\nL 64.629212 352.844634 \r\nL 65.951294 352.766558 \r\nL 67.273376 352.910867 \r\nL 68.798855 353.31373 \r\nL 70.527732 354.020689 \r\nL 72.561704 355.110512 \r\nL 75.205869 356.801098 \r\nL 80.494197 360.527045 \r\nL 85.070635 363.619603 \r\nL 88.731785 365.829755 \r\nL 92.291237 367.722383 \r\nL 96.054086 369.466259 \r\nL 100.122031 371.100404 \r\nL 104.800168 372.730352 \r\nL 110.393592 374.434663 \r\nL 117.817591 376.44862 \r\nL 129.106138 379.255435 \r\nL 149.039068 383.956689 \r\nL 169.277094 388.520361 \r\nL 186.56586 392.194664 \r\nL 202.939338 395.448731 \r\nL 219.211118 398.456554 \r\nL 235.787993 401.294013 \r\nL 252.873362 403.991265 \r\nL 270.568922 406.558109 \r\nL 273.518182 406.964725 \r\nL 273.518182 406.964725 \r\n\" style=\"fill:none;stroke:#000000;stroke-linecap:square;stroke-width:1.5;\"/>\r\n   </g>\r\n   <g id=\"line2d_11\">\r\n    <path clip-path=\"url(#p604722dce7)\" d=\"M 19.881818 435.85441 \r\nL 20.962157 435.747741 \r\nL 22.182541 435.390384 \r\nL 23.504623 434.754541 \r\nL 24.928404 433.820803 \r\nL 26.555582 432.488098 \r\nL 28.487855 430.608103 \r\nL 30.865269 427.959929 \r\nL 33.916228 424.199715 \r\nL 39.102858 417.386964 \r\nL 45.408172 409.207255 \r\nL 49.374419 404.424945 \r\nL 52.93387 400.472879 \r\nL 56.289925 397.076218 \r\nL 59.544281 394.101584 \r\nL 62.696938 391.521303 \r\nL 65.849595 389.232236 \r\nL 69.002253 387.224108 \r\nL 72.15491 385.483283 \r\nL 75.307567 383.993942 \r\nL 78.561923 382.702219 \r\nL 81.917978 381.611159 \r\nL 85.375731 380.720688 \r\nL 89.036881 380.011204 \r\nL 92.901429 379.494608 \r\nL 96.969374 379.17767 \r\nL 101.342415 379.061884 \r\nL 106.12225 379.162108 \r\nL 111.410578 379.50216 \r\nL 117.309098 380.110005 \r\nL 124.122906 381.043375 \r\nL 132.258796 382.392219 \r\nL 142.632055 384.349989 \r\nL 158.802136 387.656913 \r\nL 191.142298 394.286808 \r\nL 209.041255 397.703655 \r\nL 226.126624 400.739818 \r\nL 243.313691 403.56739 \r\nL 260.907553 406.234502 \r\nL 273.518182 408.01213 \r\nL 273.518182 408.01213 \r\n\" style=\"fill:none;stroke:#ff0000;stroke-linecap:square;stroke-width:1.5;\"/>\r\n   </g>\r\n   <g id=\"line2d_12\">\r\n    <path clip-path=\"url(#p604722dce7)\" d=\"M 19.881818 435.85441 \r\nL 21.165555 435.754624 \r\nL 22.589335 435.431261 \r\nL 24.216513 434.827251 \r\nL 26.047088 433.899172 \r\nL 28.18276 432.551165 \r\nL 30.763571 430.637451 \r\nL 34.017927 427.930211 \r\nL 39.611351 422.933309 \r\nL 46.526857 416.833075 \r\nL 51.001597 413.191033 \r\nL 54.967843 410.244359 \r\nL 58.730692 407.718551 \r\nL 62.493541 405.462738 \r\nL 66.154691 403.524188 \r\nL 69.91754 401.785576 \r\nL 73.680389 400.290047 \r\nL 77.544937 398.989266 \r\nL 81.612882 397.85575 \r\nL 85.884224 396.900207 \r\nL 90.358963 396.128048 \r\nL 95.138799 395.529175 \r\nL 100.325428 395.105623 \r\nL 106.020551 394.867815 \r\nL 112.325866 394.830598 \r\nL 119.546468 395.017192 \r\nL 127.987454 395.467181 \r\nL 138.259014 396.248461 \r\nL 151.784931 397.515658 \r\nL 173.853532 399.839301 \r\nL 220.126405 404.725297 \r\nL 248.296924 407.450417 \r\nL 273.518182 409.698537 \r\nL 273.518182 409.698537 \r\n\" style=\"fill:none;stroke:#000000;stroke-linecap:square;stroke-opacity:0.2;stroke-width:1.5;\"/>\r\n   </g>\r\n   <g id=\"line2d_13\">\r\n    <path clip-path=\"url(#p604722dce7)\" d=\"M 19.881818 344.57474 \r\nL 20.860459 344.464699 \r\nL 21.877445 344.132216 \r\nL 22.99613 343.533384 \r\nL 24.216513 342.62599 \r\nL 25.538595 341.367923 \r\nL 27.064075 339.585514 \r\nL 28.691253 337.312685 \r\nL 30.356776 334.596665 \r\nL 32.085653 331.35489 \r\nL 33.916228 327.435997 \r\nL 35.746803 322.995754 \r\nL 37.679077 317.731037 \r\nL 39.814748 311.243551 \r\nL 42.255515 303.087753 \r\nL 46.018364 289.61253 \r\nL 49.679514 276.753437 \r\nL 51.916884 269.691385 \r\nL 53.747459 264.622128 \r\nL 55.374637 260.753293 \r\nL 56.798418 257.901201 \r\nL 58.1205 255.712073 \r\nL 59.340884 254.083234 \r\nL 60.561267 252.82159 \r\nL 61.679952 251.974469 \r\nL 62.798637 251.406845 \r\nL 63.917322 251.099614 \r\nL 65.036006 251.031386 \r\nL 66.154691 251.179215 \r\nL 67.375075 251.558907 \r\nL 68.798855 252.249398 \r\nL 70.426033 253.305463 \r\nL 72.358307 254.838604 \r\nL 75.002471 257.250379 \r\nL 85.172334 266.828592 \r\nL 86.465356 267.8921 \r\nL 88.499328 257.714515 \r\nL 90.838397 244.815862 \r\nL 94.194451 224.900899 \r\nL 96.635218 210.130638 \r\nL 97.9573 219.748674 \r\nL 99.279382 227.70604 \r\nL 100.601464 234.305114 \r\nL 101.923546 239.797629 \r\nL 103.245628 244.390315 \r\nL 104.669409 248.522277 \r\nL 106.09319 251.974317 \r\nL 107.618669 255.070333 \r\nL 109.144149 257.669572 \r\nL 110.771326 260.008566 \r\nL 112.500203 262.107549 \r\nL 114.330778 263.991664 \r\nL 116.364751 265.770761 \r\nL 118.60212 267.438031 \r\nL 121.144586 269.059649 \r\nL 124.093846 270.678577 \r\nL 127.653298 272.372804 \r\nL 132.026339 274.198452 \r\nL 137.619763 276.279989 \r\nL 144.988195 278.771979 \r\nL 154.852962 281.861845 \r\nL 167.158495 285.478128 \r\nL 180.78611 289.250316 \r\nL 194.82052 292.903146 \r\nL 208.956629 296.353135 \r\nL 223.397833 299.648513 \r\nL 238.245832 302.806795 \r\nL 253.500625 305.822897 \r\nL 269.263911 308.712021 \r\nL 272.925062 309.351695 \r\nL 272.925062 309.351695 \r\n\" style=\"fill:none;stroke:#000000;stroke-linecap:square;stroke-width:1.5;\"/>\r\n   </g>\r\n   <g id=\"line2d_14\">\r\n    <path clip-path=\"url(#p604722dce7)\" d=\"M 19.881818 345.617911 \r\nL 20.860459 345.524585 \r\nL 21.979144 345.205348 \r\nL 23.199527 344.627616 \r\nL 24.623308 343.690751 \r\nL 26.250486 342.327102 \r\nL 28.081061 340.488847 \r\nL 30.255078 337.982928 \r\nL 33.00094 334.466706 \r\nL 37.170584 328.719679 \r\nL 45.61157 317.035689 \r\nL 49.577816 311.974406 \r\nL 53.035569 307.910559 \r\nL 56.289925 304.416082 \r\nL 59.442582 301.349204 \r\nL 62.493541 298.68143 \r\nL 65.5445 296.303967 \r\nL 68.595458 294.207231 \r\nL 71.646417 292.378382 \r\nL 74.697376 290.802427 \r\nL 77.850033 289.422299 \r\nL 81.104389 288.242813 \r\nL 84.460443 287.265612 \r\nL 86.567054 286.631034 \r\nL 90.736698 280.388009 \r\nL 95.00804 274.398098 \r\nL 96.736917 272.21597 \r\nL 101.008259 272.35551 \r\nL 105.686395 272.735293 \r\nL 110.873025 273.386591 \r\nL 116.669847 274.344686 \r\nL 123.381956 275.686959 \r\nL 131.416147 277.528583 \r\nL 141.891105 280.170465 \r\nL 160.242989 285.070308 \r\nL 183.633672 291.25215 \r\nL 199.803753 295.289733 \r\nL 215.058546 298.870504 \r\nL 230.211641 302.198248 \r\nL 245.568133 305.341132 \r\nL 261.22972 308.318606 \r\nL 272.925062 310.399809 \r\nL 272.925062 310.399809 \r\n\" style=\"fill:none;stroke:#ff0000;stroke-linecap:square;stroke-width:1.5;\"/>\r\n   </g>\r\n   <g id=\"line2d_15\">\r\n    <path clip-path=\"url(#p604722dce7)\" d=\"M 19.881818 345.617911 \r\nL 21.165555 345.511888 \r\nL 22.589335 345.168315 \r\nL 24.114815 344.573627 \r\nL 25.843691 343.662143 \r\nL 27.877664 342.328623 \r\nL 30.255078 340.496669 \r\nL 33.306036 337.849083 \r\nL 37.984173 333.451772 \r\nL 46.526857 325.407743 \r\nL 50.899898 321.622239 \r\nL 54.866144 318.483705 \r\nL 58.628993 315.792327 \r\nL 62.290144 313.448999 \r\nL 65.951294 311.374575 \r\nL 69.612444 309.559706 \r\nL 73.273595 307.99064 \r\nL 77.036444 306.616816 \r\nL 81.00269 305.409579 \r\nL 85.070635 304.404077 \r\nL 86.465356 304.109122 \r\nL 86.567054 33.37906 \r\nL 90.940095 32.609244 \r\nL 95.618232 32.011363 \r\nL 96.635218 31.909091 \r\nL 96.635218 302.618588 \r\nL 96.736917 302.608871 \r\nL 101.923546 302.227907 \r\nL 107.618669 302.037867 \r\nL 113.923984 302.053852 \r\nL 121.144586 302.30095 \r\nL 129.585572 302.820358 \r\nL 139.857132 303.683589 \r\nL 153.530879 305.070006 \r\nL 176.718165 307.680833 \r\nL 218.312902 312.348748 \r\nL 245.77153 315.188921 \r\nL 272.925062 317.773297 \r\nL 272.925062 317.773297 \r\n\" style=\"fill:none;stroke:#000000;stroke-linecap:square;stroke-opacity:0.2;stroke-width:1.5;\"/>\r\n   </g>\r\n   <g id=\"patch_3\">\r\n    <path d=\"M 19.881818 550.8 \r\nL 274.128374 550.8 \r\n\" style=\"fill:none;stroke:#000000;stroke-linecap:square;stroke-linejoin:miter;stroke-width:0.8;\"/>\r\n   </g>\r\n   <g id=\"legend_1\">\r\n    <g id=\"patch_4\">\r\n     <path d=\"M 143.35625 59.234375 \r\nL 279.2 59.234375 \r\nQ 281.2 59.234375 281.2 57.234375 \r\nL 281.2 14.2 \r\nQ 281.2 12.2 279.2 12.2 \r\nL 143.35625 12.2 \r\nQ 141.35625 12.2 141.35625 14.2 \r\nL 141.35625 57.234375 \r\nQ 141.35625 59.234375 143.35625 59.234375 \r\nz\r\n\" style=\"fill:#ffffff;opacity:0.8;stroke:#cccccc;stroke-linejoin:miter;\"/>\r\n    </g>\r\n    <g id=\"line2d_16\">\r\n     <path d=\"M 145.35625 20.298437 \r\nL 165.35625 20.298437 \r\n\" style=\"fill:none;stroke:#000000;stroke-linecap:square;stroke-width:1.5;\"/>\r\n    </g>\r\n    <g id=\"line2d_17\"/>\r\n    <g id=\"text_7\">\r\n     <!-- Dendrite -->\r\n     <g transform=\"translate(173.35625 23.798437)scale(0.1 -0.1)\">\r\n      <defs>\r\n       <path d=\"M 19.671875 64.796875 \r\nL 19.671875 8.109375 \r\nL 31.59375 8.109375 \r\nQ 46.6875 8.109375 53.6875 14.9375 \r\nQ 60.6875 21.78125 60.6875 36.53125 \r\nQ 60.6875 51.171875 53.6875 57.984375 \r\nQ 46.6875 64.796875 31.59375 64.796875 \r\nz\r\nM 9.8125 72.90625 \r\nL 30.078125 72.90625 \r\nQ 51.265625 72.90625 61.171875 64.09375 \r\nQ 71.09375 55.28125 71.09375 36.53125 \r\nQ 71.09375 17.671875 61.125 8.828125 \r\nQ 51.171875 0 30.078125 0 \r\nL 9.8125 0 \r\nz\r\n\" id=\"DejaVuSans-68\"/>\r\n       <path d=\"M 56.203125 29.59375 \r\nL 56.203125 25.203125 \r\nL 14.890625 25.203125 \r\nQ 15.484375 15.921875 20.484375 11.0625 \r\nQ 25.484375 6.203125 34.421875 6.203125 \r\nQ 39.59375 6.203125 44.453125 7.46875 \r\nQ 49.3125 8.734375 54.109375 11.28125 \r\nL 54.109375 2.78125 \r\nQ 49.265625 0.734375 44.1875 -0.34375 \r\nQ 39.109375 -1.421875 33.890625 -1.421875 \r\nQ 20.796875 -1.421875 13.15625 6.1875 \r\nQ 5.515625 13.8125 5.515625 26.8125 \r\nQ 5.515625 40.234375 12.765625 48.109375 \r\nQ 20.015625 56 32.328125 56 \r\nQ 43.359375 56 49.78125 48.890625 \r\nQ 56.203125 41.796875 56.203125 29.59375 \r\nz\r\nM 47.21875 32.234375 \r\nQ 47.125 39.59375 43.09375 43.984375 \r\nQ 39.0625 48.390625 32.421875 48.390625 \r\nQ 24.90625 48.390625 20.390625 44.140625 \r\nQ 15.875 39.890625 15.1875 32.171875 \r\nz\r\n\" id=\"DejaVuSans-101\"/>\r\n       <path d=\"M 54.890625 33.015625 \r\nL 54.890625 0 \r\nL 45.90625 0 \r\nL 45.90625 32.71875 \r\nQ 45.90625 40.484375 42.875 44.328125 \r\nQ 39.84375 48.1875 33.796875 48.1875 \r\nQ 26.515625 48.1875 22.3125 43.546875 \r\nQ 18.109375 38.921875 18.109375 30.90625 \r\nL 18.109375 0 \r\nL 9.078125 0 \r\nL 9.078125 54.6875 \r\nL 18.109375 54.6875 \r\nL 18.109375 46.1875 \r\nQ 21.34375 51.125 25.703125 53.5625 \r\nQ 30.078125 56 35.796875 56 \r\nQ 45.21875 56 50.046875 50.171875 \r\nQ 54.890625 44.34375 54.890625 33.015625 \r\nz\r\n\" id=\"DejaVuSans-110\"/>\r\n       <path d=\"M 45.40625 46.390625 \r\nL 45.40625 75.984375 \r\nL 54.390625 75.984375 \r\nL 54.390625 0 \r\nL 45.40625 0 \r\nL 45.40625 8.203125 \r\nQ 42.578125 3.328125 38.25 0.953125 \r\nQ 33.9375 -1.421875 27.875 -1.421875 \r\nQ 17.96875 -1.421875 11.734375 6.484375 \r\nQ 5.515625 14.40625 5.515625 27.296875 \r\nQ 5.515625 40.1875 11.734375 48.09375 \r\nQ 17.96875 56 27.875 56 \r\nQ 33.9375 56 38.25 53.625 \r\nQ 42.578125 51.265625 45.40625 46.390625 \r\nz\r\nM 14.796875 27.296875 \r\nQ 14.796875 17.390625 18.875 11.75 \r\nQ 22.953125 6.109375 30.078125 6.109375 \r\nQ 37.203125 6.109375 41.296875 11.75 \r\nQ 45.40625 17.390625 45.40625 27.296875 \r\nQ 45.40625 37.203125 41.296875 42.84375 \r\nQ 37.203125 48.484375 30.078125 48.484375 \r\nQ 22.953125 48.484375 18.875 42.84375 \r\nQ 14.796875 37.203125 14.796875 27.296875 \r\nz\r\n\" id=\"DejaVuSans-100\"/>\r\n       <path d=\"M 41.109375 46.296875 \r\nQ 39.59375 47.171875 37.8125 47.578125 \r\nQ 36.03125 48 33.890625 48 \r\nQ 26.265625 48 22.1875 43.046875 \r\nQ 18.109375 38.09375 18.109375 28.8125 \r\nL 18.109375 0 \r\nL 9.078125 0 \r\nL 9.078125 54.6875 \r\nL 18.109375 54.6875 \r\nL 18.109375 46.1875 \r\nQ 20.953125 51.171875 25.484375 53.578125 \r\nQ 30.03125 56 36.53125 56 \r\nQ 37.453125 56 38.578125 55.875 \r\nQ 39.703125 55.765625 41.0625 55.515625 \r\nz\r\n\" id=\"DejaVuSans-114\"/>\r\n       <path d=\"M 9.421875 54.6875 \r\nL 18.40625 54.6875 \r\nL 18.40625 0 \r\nL 9.421875 0 \r\nz\r\nM 9.421875 75.984375 \r\nL 18.40625 75.984375 \r\nL 18.40625 64.59375 \r\nL 9.421875 64.59375 \r\nz\r\n\" id=\"DejaVuSans-105\"/>\r\n       <path d=\"M 18.3125 70.21875 \r\nL 18.3125 54.6875 \r\nL 36.8125 54.6875 \r\nL 36.8125 47.703125 \r\nL 18.3125 47.703125 \r\nL 18.3125 18.015625 \r\nQ 18.3125 11.328125 20.140625 9.421875 \r\nQ 21.96875 7.515625 27.59375 7.515625 \r\nL 36.8125 7.515625 \r\nL 36.8125 0 \r\nL 27.59375 0 \r\nQ 17.1875 0 13.234375 3.875 \r\nQ 9.28125 7.765625 9.28125 18.015625 \r\nL 9.28125 47.703125 \r\nL 2.6875 47.703125 \r\nL 2.6875 54.6875 \r\nL 9.28125 54.6875 \r\nL 9.28125 70.21875 \r\nz\r\n\" id=\"DejaVuSans-116\"/>\r\n      </defs>\r\n      <use xlink:href=\"#DejaVuSans-68\"/>\r\n      <use x=\"77.001953\" xlink:href=\"#DejaVuSans-101\"/>\r\n      <use x=\"138.525391\" xlink:href=\"#DejaVuSans-110\"/>\r\n      <use x=\"201.904297\" xlink:href=\"#DejaVuSans-100\"/>\r\n      <use x=\"265.380859\" xlink:href=\"#DejaVuSans-114\"/>\r\n      <use x=\"306.494141\" xlink:href=\"#DejaVuSans-105\"/>\r\n      <use x=\"334.277344\" xlink:href=\"#DejaVuSans-116\"/>\r\n      <use x=\"373.486328\" xlink:href=\"#DejaVuSans-101\"/>\r\n     </g>\r\n    </g>\r\n    <g id=\"line2d_18\">\r\n     <path d=\"M 145.35625 34.976562 \r\nL 165.35625 34.976562 \r\n\" style=\"fill:none;stroke:#ff0000;stroke-linecap:square;stroke-width:1.5;\"/>\r\n    </g>\r\n    <g id=\"line2d_19\"/>\r\n    <g id=\"text_8\">\r\n     <!-- Dendrite Linear Only -->\r\n     <g transform=\"translate(173.35625 38.476562)scale(0.1 -0.1)\">\r\n      <defs>\r\n       <path id=\"DejaVuSans-32\"/>\r\n       <path d=\"M 9.8125 72.90625 \r\nL 19.671875 72.90625 \r\nL 19.671875 8.296875 \r\nL 55.171875 8.296875 \r\nL 55.171875 0 \r\nL 9.8125 0 \r\nz\r\n\" id=\"DejaVuSans-76\"/>\r\n       <path d=\"M 34.28125 27.484375 \r\nQ 23.390625 27.484375 19.1875 25 \r\nQ 14.984375 22.515625 14.984375 16.5 \r\nQ 14.984375 11.71875 18.140625 8.90625 \r\nQ 21.296875 6.109375 26.703125 6.109375 \r\nQ 34.1875 6.109375 38.703125 11.40625 \r\nQ 43.21875 16.703125 43.21875 25.484375 \r\nL 43.21875 27.484375 \r\nz\r\nM 52.203125 31.203125 \r\nL 52.203125 0 \r\nL 43.21875 0 \r\nL 43.21875 8.296875 \r\nQ 40.140625 3.328125 35.546875 0.953125 \r\nQ 30.953125 -1.421875 24.3125 -1.421875 \r\nQ 15.921875 -1.421875 10.953125 3.296875 \r\nQ 6 8.015625 6 15.921875 \r\nQ 6 25.140625 12.171875 29.828125 \r\nQ 18.359375 34.515625 30.609375 34.515625 \r\nL 43.21875 34.515625 \r\nL 43.21875 35.40625 \r\nQ 43.21875 41.609375 39.140625 45 \r\nQ 35.0625 48.390625 27.6875 48.390625 \r\nQ 23 48.390625 18.546875 47.265625 \r\nQ 14.109375 46.140625 10.015625 43.890625 \r\nL 10.015625 52.203125 \r\nQ 14.9375 54.109375 19.578125 55.046875 \r\nQ 24.21875 56 28.609375 56 \r\nQ 40.484375 56 46.34375 49.84375 \r\nQ 52.203125 43.703125 52.203125 31.203125 \r\nz\r\n\" id=\"DejaVuSans-97\"/>\r\n       <path d=\"M 39.40625 66.21875 \r\nQ 28.65625 66.21875 22.328125 58.203125 \r\nQ 16.015625 50.203125 16.015625 36.375 \r\nQ 16.015625 22.609375 22.328125 14.59375 \r\nQ 28.65625 6.59375 39.40625 6.59375 \r\nQ 50.140625 6.59375 56.421875 14.59375 \r\nQ 62.703125 22.609375 62.703125 36.375 \r\nQ 62.703125 50.203125 56.421875 58.203125 \r\nQ 50.140625 66.21875 39.40625 66.21875 \r\nz\r\nM 39.40625 74.21875 \r\nQ 54.734375 74.21875 63.90625 63.9375 \r\nQ 73.09375 53.65625 73.09375 36.375 \r\nQ 73.09375 19.140625 63.90625 8.859375 \r\nQ 54.734375 -1.421875 39.40625 -1.421875 \r\nQ 24.03125 -1.421875 14.8125 8.828125 \r\nQ 5.609375 19.09375 5.609375 36.375 \r\nQ 5.609375 53.65625 14.8125 63.9375 \r\nQ 24.03125 74.21875 39.40625 74.21875 \r\nz\r\n\" id=\"DejaVuSans-79\"/>\r\n       <path d=\"M 9.421875 75.984375 \r\nL 18.40625 75.984375 \r\nL 18.40625 0 \r\nL 9.421875 0 \r\nz\r\n\" id=\"DejaVuSans-108\"/>\r\n       <path d=\"M 32.171875 -5.078125 \r\nQ 28.375 -14.84375 24.75 -17.8125 \r\nQ 21.140625 -20.796875 15.09375 -20.796875 \r\nL 7.90625 -20.796875 \r\nL 7.90625 -13.28125 \r\nL 13.1875 -13.28125 \r\nQ 16.890625 -13.28125 18.9375 -11.515625 \r\nQ 21 -9.765625 23.484375 -3.21875 \r\nL 25.09375 0.875 \r\nL 2.984375 54.6875 \r\nL 12.5 54.6875 \r\nL 29.59375 11.921875 \r\nL 46.6875 54.6875 \r\nL 56.203125 54.6875 \r\nz\r\n\" id=\"DejaVuSans-121\"/>\r\n      </defs>\r\n      <use xlink:href=\"#DejaVuSans-68\"/>\r\n      <use x=\"77.001953\" xlink:href=\"#DejaVuSans-101\"/>\r\n      <use x=\"138.525391\" xlink:href=\"#DejaVuSans-110\"/>\r\n      <use x=\"201.904297\" xlink:href=\"#DejaVuSans-100\"/>\r\n      <use x=\"265.380859\" xlink:href=\"#DejaVuSans-114\"/>\r\n      <use x=\"306.494141\" xlink:href=\"#DejaVuSans-105\"/>\r\n      <use x=\"334.277344\" xlink:href=\"#DejaVuSans-116\"/>\r\n      <use x=\"373.486328\" xlink:href=\"#DejaVuSans-101\"/>\r\n      <use x=\"435.009766\" xlink:href=\"#DejaVuSans-32\"/>\r\n      <use x=\"466.796875\" xlink:href=\"#DejaVuSans-76\"/>\r\n      <use x=\"522.509766\" xlink:href=\"#DejaVuSans-105\"/>\r\n      <use x=\"550.292969\" xlink:href=\"#DejaVuSans-110\"/>\r\n      <use x=\"613.671875\" xlink:href=\"#DejaVuSans-101\"/>\r\n      <use x=\"675.195312\" xlink:href=\"#DejaVuSans-97\"/>\r\n      <use x=\"736.474609\" xlink:href=\"#DejaVuSans-114\"/>\r\n      <use x=\"777.587891\" xlink:href=\"#DejaVuSans-32\"/>\r\n      <use x=\"809.375\" xlink:href=\"#DejaVuSans-79\"/>\r\n      <use x=\"888.085938\" xlink:href=\"#DejaVuSans-110\"/>\r\n      <use x=\"951.464844\" xlink:href=\"#DejaVuSans-108\"/>\r\n      <use x=\"979.248047\" xlink:href=\"#DejaVuSans-121\"/>\r\n     </g>\r\n    </g>\r\n    <g id=\"line2d_20\">\r\n     <path d=\"M 145.35625 49.654688 \r\nL 165.35625 49.654688 \r\n\" style=\"fill:none;stroke:#000000;stroke-linecap:square;stroke-opacity:0.2;stroke-width:1.5;\"/>\r\n    </g>\r\n    <g id=\"line2d_21\"/>\r\n    <g id=\"text_9\">\r\n     <!-- Soma -->\r\n     <g transform=\"translate(173.35625 53.154688)scale(0.1 -0.1)\">\r\n      <defs>\r\n       <path d=\"M 53.515625 70.515625 \r\nL 53.515625 60.890625 \r\nQ 47.90625 63.578125 42.921875 64.890625 \r\nQ 37.9375 66.21875 33.296875 66.21875 \r\nQ 25.25 66.21875 20.875 63.09375 \r\nQ 16.5 59.96875 16.5 54.203125 \r\nQ 16.5 49.359375 19.40625 46.890625 \r\nQ 22.3125 44.4375 30.421875 42.921875 \r\nL 36.375 41.703125 \r\nQ 47.40625 39.59375 52.65625 34.296875 \r\nQ 57.90625 29 57.90625 20.125 \r\nQ 57.90625 9.515625 50.796875 4.046875 \r\nQ 43.703125 -1.421875 29.984375 -1.421875 \r\nQ 24.8125 -1.421875 18.96875 -0.25 \r\nQ 13.140625 0.921875 6.890625 3.21875 \r\nL 6.890625 13.375 \r\nQ 12.890625 10.015625 18.65625 8.296875 \r\nQ 24.421875 6.59375 29.984375 6.59375 \r\nQ 38.421875 6.59375 43.015625 9.90625 \r\nQ 47.609375 13.234375 47.609375 19.390625 \r\nQ 47.609375 24.75 44.3125 27.78125 \r\nQ 41.015625 30.8125 33.5 32.328125 \r\nL 27.484375 33.5 \r\nQ 16.453125 35.6875 11.515625 40.375 \r\nQ 6.59375 45.0625 6.59375 53.421875 \r\nQ 6.59375 63.09375 13.40625 68.65625 \r\nQ 20.21875 74.21875 32.171875 74.21875 \r\nQ 37.3125 74.21875 42.625 73.28125 \r\nQ 47.953125 72.359375 53.515625 70.515625 \r\nz\r\n\" id=\"DejaVuSans-83\"/>\r\n       <path d=\"M 30.609375 48.390625 \r\nQ 23.390625 48.390625 19.1875 42.75 \r\nQ 14.984375 37.109375 14.984375 27.296875 \r\nQ 14.984375 17.484375 19.15625 11.84375 \r\nQ 23.34375 6.203125 30.609375 6.203125 \r\nQ 37.796875 6.203125 41.984375 11.859375 \r\nQ 46.1875 17.53125 46.1875 27.296875 \r\nQ 46.1875 37.015625 41.984375 42.703125 \r\nQ 37.796875 48.390625 30.609375 48.390625 \r\nz\r\nM 30.609375 56 \r\nQ 42.328125 56 49.015625 48.375 \r\nQ 55.71875 40.765625 55.71875 27.296875 \r\nQ 55.71875 13.875 49.015625 6.21875 \r\nQ 42.328125 -1.421875 30.609375 -1.421875 \r\nQ 18.84375 -1.421875 12.171875 6.21875 \r\nQ 5.515625 13.875 5.515625 27.296875 \r\nQ 5.515625 40.765625 12.171875 48.375 \r\nQ 18.84375 56 30.609375 56 \r\nz\r\n\" id=\"DejaVuSans-111\"/>\r\n       <path d=\"M 52 44.1875 \r\nQ 55.375 50.25 60.0625 53.125 \r\nQ 64.75 56 71.09375 56 \r\nQ 79.640625 56 84.28125 50.015625 \r\nQ 88.921875 44.046875 88.921875 33.015625 \r\nL 88.921875 0 \r\nL 79.890625 0 \r\nL 79.890625 32.71875 \r\nQ 79.890625 40.578125 77.09375 44.375 \r\nQ 74.3125 48.1875 68.609375 48.1875 \r\nQ 61.625 48.1875 57.5625 43.546875 \r\nQ 53.515625 38.921875 53.515625 30.90625 \r\nL 53.515625 0 \r\nL 44.484375 0 \r\nL 44.484375 32.71875 \r\nQ 44.484375 40.625 41.703125 44.40625 \r\nQ 38.921875 48.1875 33.109375 48.1875 \r\nQ 26.21875 48.1875 22.15625 43.53125 \r\nQ 18.109375 38.875 18.109375 30.90625 \r\nL 18.109375 0 \r\nL 9.078125 0 \r\nL 9.078125 54.6875 \r\nL 18.109375 54.6875 \r\nL 18.109375 46.1875 \r\nQ 21.1875 51.21875 25.484375 53.609375 \r\nQ 29.78125 56 35.6875 56 \r\nQ 41.65625 56 45.828125 52.96875 \r\nQ 50 49.953125 52 44.1875 \r\nz\r\n\" id=\"DejaVuSans-109\"/>\r\n      </defs>\r\n      <use xlink:href=\"#DejaVuSans-83\"/>\r\n      <use x=\"63.476562\" xlink:href=\"#DejaVuSans-111\"/>\r\n      <use x=\"124.658203\" xlink:href=\"#DejaVuSans-109\"/>\r\n      <use x=\"222.070312\" xlink:href=\"#DejaVuSans-97\"/>\r\n     </g>\r\n    </g>\r\n   </g>\r\n  </g>\r\n </g>\r\n <defs>\r\n  <clipPath id=\"p604722dce7\">\r\n   <rect height=\"543.6\" width=\"279\" x=\"7.2\" y=\"7.2\"/>\r\n  </clipPath>\r\n </defs>\r\n</svg>\r\n",
      "image/png": "[encoded data removed]"
     },
     "metadata": {
      "needs_background": "light"
     }
    }
   ],
   "source": [
    "plt.figure(figsize=(5,10))\n",
    "# ax.xlabel('Time (ms)')\n",
    "# ax.ylabel('V_d (mV)')\n",
    "scale_y = 1\n",
    "offset = scale_y * [0.5, 0.5, 0.5, 0.5, 0.5, 1.0]\n",
    "for i, trace in enumerate(cleaned_output):\n",
    "    # Vs = plt.fill_between(t, 20 * i + V_membrane, 20 * i + V_membrane + V_na, color='r', linewidth=0)\n",
    "    t_end = 2500\n",
    "    Vd = trace['Vd'][:t_end] * scale_y\n",
    "    Vs = trace['Vs'][:t_end] * scale_y\n",
    "    Vd_lin = trace['Vd_lin'][:t_end] * scale_y\n",
    "    time = trace['time'][:t_end]\n",
    "\n",
    "    Vd_plt = plt.plot(time, offset[i] * i + Vd, 'k-')[0]\n",
    "    Vd_lin_plt = plt.plot(time, offset[i] * i + Vd_lin, 'k-',  c='r')[0]\n",
    "    Vs_plt = plt.plot(time, offset[i] * i + Vs, 'k-', alpha=0.2)[0]\n",
    "\n",
    "# pltools.add_scalebar(x_units='ms', y_units='mV', anchor=(0.5, 0.7), bar_space=0)\n",
    "Vs_plt.set_label('Soma')\n",
    "Vd_plt.set_label('Dendrite')\n",
    "Vd_lin_plt.set_label('Dendrite Linear Only')\n",
    "pltools.hide_border('trl', trim=True)\n",
    "plt.legend()\n",
    "plt.savefig('./figures/recurrent1.svg')"
   ]
  },
  {
   "cell_type": "code",
   "execution_count": null,
   "metadata": {},
   "outputs": [],
   "source": []
  }
 ]
}