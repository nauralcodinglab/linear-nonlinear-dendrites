{
 "cells": [
  {
   "cell_type": "markdown",
   "source": [
    "# Recurrent Na processing\r\n",
    "\r\n",
    "This notebook contains code for Fig. 4 of [Harkin, Shen _et al_. (2021)](https://doi.org/10.1101/2021.03.25.437091)."
   ],
   "metadata": {}
  },
  {
   "cell_type": "code",
   "execution_count": 1,
   "source": [
    "import matplotlib.pyplot as plt\r\n",
    "from ezephys import pltools\r\n",
    "import pickle\r\n",
    "import numpy as np"
   ],
   "outputs": [],
   "metadata": {}
  },
  {
   "cell_type": "code",
   "execution_count": 2,
   "source": [
    "def add_scalebar(x_units=None, y_units=None, anchor=(0.98, 0.02),\r\n",
    "                 x_size=None, y_size=None, y_label_space=0.02, x_label_space=-0.02,\r\n",
    "                 bar_space=0.06, x_on_left=True, linewidth=3, remove_frame=True,\r\n",
    "                 omit_x=False, omit_y=False, round=True, usetex=True, ax=None, x_length_ax=None, y_length_ax=None):\r\n",
    "    \"\"\"Automagically add a set of x and y scalebars to a matplotlib plot.\r\n",
    "\r\n",
    "    By default, scalebars are sized automatically based on x and y tick\r\n",
    "    spacing.\r\n",
    "\r\n",
    "    Arguments\r\n",
    "    ---------\r\n",
    "    x_units, y_units: str or None\r\n",
    "        Units (e.g. mV, pA, ms) for x and y scalebars.\r\n",
    "    anchor: pair of floats\r\n",
    "        Bottom right of scale bar bbox (in axis coordinates).\r\n",
    "    x_size, y_size: float or None\r\n",
    "        Manually set size of x and y scalebars (or None for automatic sizing).\r\n",
    "    x_label_space, y_label_space: float\r\n",
    "        Offset for x and y scalebar labels (in axis units).\r\n",
    "    bar_space: float >= 0.0\r\n",
    "        Spacing between x and y scalebars (in axis units). Set to zero for the\r\n",
    "        two bars to be joined at the corner.\r\n",
    "    x_on_left: bool, default True\r\n",
    "        Place x scalebar on left of y scalebar. Set to False to place on right\r\n",
    "        instead.\r\n",
    "    linewidth: float, default 3\r\n",
    "        Thickness of scalebars.\r\n",
    "    remove_frame: bool, default True\r\n",
    "        Remove the frame, ticks, etc. from the axis object to which the\r\n",
    "        scalebar is being added. True by default because the scalebars are\r\n",
    "        assumed to be a replacement for the axes.\r\n",
    "    omit_x, omit_y: bool, default False\r\n",
    "        Skip drawing x or y scalebar.f\r\n",
    "    round: bool, default True\r\n",
    "        Round values to the nearest integer. Causes `100.0 pA` to be printed as\r\n",
    "        `100 pA`.\r\n",
    "    usetex: bool, default True\r\n",
    "        Print numbers in LaTeX math mode. Set to False if LaTeX is not being\r\n",
    "        used to render text, or `100 pA` will print as `$100$ pA`.\r\n",
    "    ax: matplotlib.axes object, defaults to current axes\r\n",
    "        Axis to which scalebars should be added.\r\n",
    "\r\n",
    "    \"\"\"\r\n",
    "    # Basic input processing.\r\n",
    "\r\n",
    "    if ax is None:\r\n",
    "        ax = plt.gca()\r\n",
    "        print('NONE')\r\n",
    "\r\n",
    "    if x_units is None:\r\n",
    "        x_units = ''\r\n",
    "    if y_units is None:\r\n",
    "        y_units = ''\r\n",
    "\r\n",
    "    # Do y scalebar.\r\n",
    "    if not omit_y:\r\n",
    "\r\n",
    "        if y_size is None:\r\n",
    "            y_span = ax.get_yticks()[:2]\r\n",
    "            print('ax.get_yticks(): {}'.format(ax.get_yticks()))\r\n",
    "            y_length = y_span[1] - y_span[0]\r\n",
    "            print('y_span: {}'.format(y_span))\r\n",
    "            y_span_ax = ax.transLimits.transform(\r\n",
    "                np.array([[0, 0], y_span]).T)[:, 1]\r\n",
    "            print('y_span_ax: {}'.format(y_span_ax))\r\n",
    "        else:\r\n",
    "            y_length = y_size\r\n",
    "            print('y_span: {}'.format([0, y_size]))\r\n",
    "            y_span_ax = ax.transLimits.transform(\r\n",
    "                np.array([[0, 0], [0, y_size]]))[:, 1]\r\n",
    "            print('y_span_ax: {}'.format(y_span_ax))\r\n",
    "        if y_length_ax is None:\r\n",
    "            y_length_ax = y_span_ax[1] - y_span_ax[0]\r\n",
    "        print('y_length_ax: {}'.format(y_length_ax))\r\n",
    "\r\n",
    "\r\n",
    "        if round:\r\n",
    "            y_length = int(np.round(y_length))\r\n",
    "\r\n",
    "        # y-scalebar label\r\n",
    "\r\n",
    "        if y_label_space <= 0:\r\n",
    "            horizontalalignment = 'left'\r\n",
    "        else:\r\n",
    "            horizontalalignment = 'right'\r\n",
    "\r\n",
    "        if usetex:\r\n",
    "            y_label_text = '${}${}'.format(y_length, y_units)\r\n",
    "        else:\r\n",
    "            y_label_text = '{}{}'.format(y_length, y_units)\r\n",
    "\r\n",
    "        \r\n",
    "        ax.text(\r\n",
    "            anchor[0] - y_label_space, anchor[1] + y_length_ax / 2 + bar_space,\r\n",
    "            y_label_text,\r\n",
    "            verticalalignment='center', horizontalalignment=horizontalalignment,\r\n",
    "            size='small', transform=ax.transAxes\r\n",
    "        )\r\n",
    "\r\n",
    "        # y scalebar\r\n",
    "        ax.plot(\r\n",
    "            [anchor[0], anchor[0]],\r\n",
    "            [anchor[1] + bar_space, anchor[1] + y_length_ax + bar_space],\r\n",
    "            'k-',\r\n",
    "            linewidth=linewidth,\r\n",
    "            clip_on=False,\r\n",
    "            solid_capstyle='butt',\r\n",
    "            transform=ax.transAxes\r\n",
    "        )\r\n",
    "\r\n",
    "    # Do x scalebar.\r\n",
    "    if not omit_x:\r\n",
    "\r\n",
    "        if x_size is None:\r\n",
    "            print('x_size NONE')\r\n",
    "            x_span = ax.get_xticks()[:2]\r\n",
    "            x_length = x_span[1] - x_span[0]\r\n",
    "            x_span_ax = ax.transLimits.transform(\r\n",
    "                np.array([x_span, [0, 0]]).T)[:, 0]\r\n",
    "            print('ax.get_xticks(): {}'.format(ax.get_xticks()))\r\n",
    "            print('x_span: {}'.format(x_span))\r\n",
    "            print('x_span_ax: {}'.format(x_span_ax))\r\n",
    "        else:\r\n",
    "            print('x_size NOT NONE')\r\n",
    "            x_length = x_size\r\n",
    "            x_span_ax = ax.transLimits.transform(\r\n",
    "                np.array([[0, 0], [x_size, 0]]))[:, 0]\r\n",
    "            print('x_span_ax: {}'.format(x_span_ax))\r\n",
    "        if x_length_ax is None:\r\n",
    "            x_length_ax = x_span_ax[1] - x_span_ax[0]\r\n",
    "        print('x_length_ax: {}'.format(x_length_ax))\r\n",
    "        if round:\r\n",
    "            x_length = int(np.round(x_length))\r\n",
    "\r\n",
    "        # x-scalebar label\r\n",
    "        if x_label_space <= 0:\r\n",
    "            verticalalignment = 'top'\r\n",
    "        else:\r\n",
    "            verticalalignment = 'bottom'\r\n",
    "\r\n",
    "        if x_on_left:\r\n",
    "            Xx_text_coord = anchor[0] - x_length_ax / 2 - bar_space\r\n",
    "            Xx_bar_coords = [\r\n",
    "                anchor[0] - x_length_ax - bar_space,\r\n",
    "                anchor[0] - bar_space]\r\n",
    "        else:\r\n",
    "            Xx_text_coord = anchor[0] + x_length_ax / 2 + bar_space\r\n",
    "            Xx_bar_coords = [\r\n",
    "                anchor[0] + x_length_ax + bar_space,\r\n",
    "                anchor[0] + bar_space]\r\n",
    "\r\n",
    "        if usetex:\r\n",
    "            x_label_text = '${}${}'.format(x_length, x_units)\r\n",
    "        else:\r\n",
    "            x_label_text = '{}{}'.format(x_length, x_units)\r\n",
    "\r\n",
    "        ax.text(\r\n",
    "            Xx_text_coord, anchor[1] + x_label_space,\r\n",
    "            x_label_text,\r\n",
    "            verticalalignment=verticalalignment, horizontalalignment='center',\r\n",
    "            size='small', transform=ax.transAxes\r\n",
    "        )\r\n",
    "\r\n",
    "        # x scalebar\r\n",
    "        ax.plot(\r\n",
    "            Xx_bar_coords,\r\n",
    "            [anchor[1], anchor[1]],\r\n",
    "            'k-',\r\n",
    "            linewidth=linewidth,\r\n",
    "            clip_on=False,\r\n",
    "            solid_capstyle='butt',\r\n",
    "            transform=ax.transAxes\r\n",
    "        )\r\n"
   ],
   "outputs": [],
   "metadata": {}
  },
  {
   "cell_type": "code",
   "execution_count": 3,
   "source": [
    "# analysis for parameter set #1; figure 5C1\r\n",
    "dataset1_file = './simulation_data/fig-5C1-recurrent-na-simulation.pickle'\r\n",
    "with open(dataset1_file, \"rb\") as file:\r\n",
    "    dataset1 = pickle.load(file)"
   ],
   "outputs": [
    {
     "output_type": "error",
     "ename": "FileNotFoundError",
     "evalue": "[Errno 2] No such file or directory: './data/fig-5C1-recurrent-na-simulation.pickle'",
     "traceback": [
      "\u001b[1;31m---------------------------------------------------------------------------\u001b[0m",
      "\u001b[1;31mFileNotFoundError\u001b[0m                         Traceback (most recent call last)",
      "\u001b[1;32m<ipython-input-3-641502495bdf>\u001b[0m in \u001b[0;36m<module>\u001b[1;34m\u001b[0m\n\u001b[0;32m      1\u001b[0m \u001b[1;31m# analysis for parameter set #1; figure 5C1\u001b[0m\u001b[1;33m\u001b[0m\u001b[1;33m\u001b[0m\u001b[1;33m\u001b[0m\u001b[0m\n\u001b[0;32m      2\u001b[0m \u001b[0mdataset1_file\u001b[0m \u001b[1;33m=\u001b[0m \u001b[1;34m'./data/fig-5C1-recurrent-na-simulation.pickle'\u001b[0m\u001b[1;33m\u001b[0m\u001b[1;33m\u001b[0m\u001b[0m\n\u001b[1;32m----> 3\u001b[1;33m \u001b[1;32mwith\u001b[0m \u001b[0mopen\u001b[0m\u001b[1;33m(\u001b[0m\u001b[0mdataset1_file\u001b[0m\u001b[1;33m,\u001b[0m \u001b[1;34m\"rb\"\u001b[0m\u001b[1;33m)\u001b[0m \u001b[1;32mas\u001b[0m \u001b[0mfile\u001b[0m\u001b[1;33m:\u001b[0m\u001b[1;33m\u001b[0m\u001b[1;33m\u001b[0m\u001b[0m\n\u001b[0m\u001b[0;32m      4\u001b[0m     \u001b[0mdataset1\u001b[0m \u001b[1;33m=\u001b[0m \u001b[0mpickle\u001b[0m\u001b[1;33m.\u001b[0m\u001b[0mload\u001b[0m\u001b[1;33m(\u001b[0m\u001b[0mfile\u001b[0m\u001b[1;33m)\u001b[0m\u001b[1;33m\u001b[0m\u001b[1;33m\u001b[0m\u001b[0m\n",
      "\u001b[1;31mFileNotFoundError\u001b[0m: [Errno 2] No such file or directory: './data/fig-5C1-recurrent-na-simulation.pickle'"
     ]
    }
   ],
   "metadata": {}
  },
  {
   "cell_type": "code",
   "execution_count": null,
   "source": [
    "# parameters for dataset1\r\n",
    "print('na_sigmoid_loc: {}\\nna_sigmoid_gain: {}\\nna_sigmoid_sensit: {}\\nsoma_pulse_height: {}\\nsoma_spike_thresh: {}\\n'.format(\r\n",
    "    dataset1[0]['loc'],\r\n",
    "    dataset1[0]['gain'],\r\n",
    "    dataset1[0]['sensit'],\r\n",
    "    dataset1[0]['pulse_height'],\r\n",
    "    dataset1[0]['soma_thresh'],\r\n",
    "))"
   ],
   "outputs": [
    {
     "output_type": "stream",
     "name": "stdout",
     "text": [
      "na_sigmoid_loc: 1.9\n",
      "na_sigmoid_gain: 3\n",
      "na_sigmoid_sensit: 0.3\n",
      "soma_pulse_height: 2\n",
      "soma_spike_thresh: 0.19\n",
      "\n"
     ]
    }
   ],
   "metadata": {}
  },
  {
   "cell_type": "code",
   "execution_count": null,
   "source": [
    "plt.figure(figsize=(3,4))\r\n",
    "ax = plt.subplot(111)\r\n",
    "\r\n",
    "scale_y = 1\r\n",
    "offset = scale_y * [0.5, 0.5, 0.5, 0.5, 0.5, 1.0]\r\n",
    "for i, trace in enumerate(dataset1):\r\n",
    "    t_end = 3000\r\n",
    "    Vs_lin = trace['Vs_lin'][:t_end] \r\n",
    "    Vs_nl = trace['Vs_nl'][:t_end] \r\n",
    "\r\n",
    "    Vd = trace['Vd'][:t_end] \r\n",
    "    Vs = Vs_lin + 0.7 * Vs_nl\r\n",
    "    Vd_lin = trace['Vd_lin'][:t_end] \r\n",
    "    time = trace['time'][:t_end]\r\n",
    "\r\n",
    "    Vd_plt = ax.plot(time, offset[i] * i + Vd, 'k-', linewidth=1)[0]\r\n",
    "    Vs_plt = ax.plot(time, offset[i] * i + Vs, 'k-', alpha=0.3, linewidth=1)[0]\r\n",
    "\r\n",
    "y_scalebarlength = 0.2\r\n",
    "x_scalebarlength = 2\r\n",
    "\r\n",
    "y_span = abs(np.diff(ax.get_ylim()))[0]\r\n",
    "x_span = abs(np.diff(ax.get_xlim()))[0]\r\n",
    "\r\n",
    "y_length_ax = y_scalebarlength / y_span\r\n",
    "x_length_ax = x_scalebarlength / x_span\r\n",
    "\r\n",
    "add_scalebar(x_units='ms', y_units='mV', anchor=(0.8, 0.65), bar_space=0, round=False, x_size=2, y_size=20, ax=ax, x_length_ax=x_length_ax, y_length_ax=y_length_ax)\r\n",
    "anchor = (0.6, 0.5)\r\n",
    "y_length_ax = 1\r\n",
    "x_length_ax = 1\r\n",
    "y_label_space = 0.02\r\n",
    "x_label_space = 0.02\r\n",
    "bar_space = 0.06\r\n",
    "\r\n",
    "Vs_plt.set_label('Soma')\r\n",
    "Vd_plt.set_label('Dendrite')\r\n",
    "pltools.hide_border('a', trim=True)\r\n",
    "ax.legend()\r\n",
    "plt.show()"
   ],
   "outputs": [
    {
     "output_type": "stream",
     "name": "stdout",
     "text": [
      "y_span: [0, 20]\n",
      "y_span_ax: [0.04545455 7.05445195]\n",
      "y_length_ax: 0.07008997407449803\n",
      "x_size NOT NONE\n",
      "x_span_ax: [0.04545455 0.10618206]\n",
      "x_length_ax: 0.060727515637331426\n"
     ]
    },
    {
     "output_type": "display_data",
     "data": {
      "image/png": "[encoded data removed]",
      "text/plain": [
       "<Figure size 216x288 with 1 Axes>"
      ]
     },
     "metadata": {}
    }
   ],
   "metadata": {}
  },
  {
   "cell_type": "code",
   "execution_count": null,
   "source": [
    "plt.figure(figsize=(3,1))\r\n",
    "for i, trace in enumerate(dataset1):\r\n",
    "    # Vs = plt.fill_between(t, 20 * i + V_membrane, 20 * i + V_membrane + V_na, color='r', linewidth=0)\r\n",
    "    t_end = 3000\r\n",
    "    input = trace['input'][:t_end] \r\n",
    "    time = trace['time'][:t_end]\r\n",
    "\r\n",
    "    plt.plot(time, offset[i] + input, 'k-', linewidth=1)\r\n",
    "\r\n",
    "add_scalebar(x_units='ms', y_units='mA', anchor=(0.8, 0.4), bar_space=0, x_size=2, round=True)\r\n",
    "pltools.hide_border('a', trim=True)\r\n",
    "plt.show()"
   ],
   "outputs": [
    {
     "output_type": "stream",
     "name": "stdout",
     "text": [
      "NONE\n",
      "ax.get_yticks(): [0. 1. 2. 3.]\n",
      "y_span: [0. 1.]\n",
      "y_span_ax: [-0.21428571  0.30519481]\n",
      "y_length_ax: 0.5194805194805194\n",
      "x_size NOT NONE\n",
      "x_span_ax: [0.04545455 0.10618206]\n",
      "x_length_ax: 0.06072751563733143\n"
     ]
    },
    {
     "output_type": "display_data",
     "data": {
      "image/png": "[encoded data removed]",
      "text/plain": [
       "<Figure size 216x72 with 1 Axes>"
      ]
     },
     "metadata": {}
    }
   ],
   "metadata": {}
  },
  {
   "cell_type": "code",
   "execution_count": null,
   "source": [
    "# analysis for parameter set #2; figure 5C2\r\n",
    "dataset2_file = './simulation_data/fig-5C2-recurrent-na-simulation.pickle'\r\n",
    "with open(dataset2_file, \"rb\") as file:\r\n",
    "    dataset2 = pickle.load(file)"
   ],
   "outputs": [],
   "metadata": {}
  },
  {
   "cell_type": "code",
   "execution_count": null,
   "source": [
    "# parameters for dataset2\r\n",
    "print('na_sigmoid_loc: {}\\nna_sigmoid_gain: {}\\nna_sigmoid_sensit: {}\\nsoma_pulse_height: {}\\nsoma_spike_thresh: {}\\n'.format(\r\n",
    "    dataset2[0]['loc'],\r\n",
    "    dataset2[0]['gain'],\r\n",
    "    dataset2[0]['sensit'],\r\n",
    "    dataset2[0]['pulse_height'],\r\n",
    "    dataset2[0]['soma_thresh'],\r\n",
    "))"
   ],
   "outputs": [
    {
     "output_type": "stream",
     "name": "stdout",
     "text": [
      "na_sigmoid_loc: 1.7999999999999998\n",
      "na_sigmoid_gain: 3\n",
      "na_sigmoid_sensit: 0.2\n",
      "soma_pulse_height: 2\n",
      "soma_spike_thresh: 1\n",
      "\n"
     ]
    }
   ],
   "metadata": {}
  },
  {
   "cell_type": "code",
   "execution_count": null,
   "source": [
    "plt.figure(figsize=(3,4))\r\n",
    "ax = plt.subplot(111)\r\n",
    "scale_y = 1\r\n",
    "offset = scale_y * [0.5, 0.3, 0.45, 0.5, 0.5, 1.0]\r\n",
    "for i, trace in enumerate(dataset2):\r\n",
    "    # Vs = plt.fill_between(t, 20 * i + V_membrane, 20 * i + V_membrane + V_na, color='r', linewidth=0)\r\n",
    "    t_end = 3000\r\n",
    "    Vs_lin = trace['Vs_lin'][:t_end] \r\n",
    "    Vs_nl = trace['Vs_nl'][:t_end] \r\n",
    "\r\n",
    "    Vd = trace['Vd'][:t_end]\r\n",
    "    Vs = Vs_lin + 0.7 * Vs_nl\r\n",
    "    Vd_lin = trace['Vd_lin'][:t_end] \r\n",
    "    time = trace['time'][:t_end]\r\n",
    "\r\n",
    "    Vd_plt = ax.plot(time, offset[i] * i + Vd, 'k-', linewidth=1)[0]\r\n",
    "    Vs_plt = ax.plot(time, offset[i] * i + Vs, 'k-', alpha=0.3, linewidth=1)[0]\r\n",
    "\r\n",
    "y_scalebarlength = 0.2\r\n",
    "x_scalebarlength = 2\r\n",
    "\r\n",
    "y_span = abs(np.diff(ax.get_ylim()))[0]\r\n",
    "x_span = abs(np.diff(ax.get_xlim()))[0]\r\n",
    "\r\n",
    "y_length_ax = y_scalebarlength / y_span\r\n",
    "x_length_ax = x_scalebarlength / x_span\r\n",
    "\r\n",
    "add_scalebar(x_units='ms', y_units='mV', anchor=(0.8, 0.75), bar_space=0, round=False, x_size=2, y_size=20, ax=ax, x_length_ax=x_length_ax, y_length_ax=y_length_ax)\r\n",
    "\r\n",
    "pltools.hide_border('a', trim=True)\r\n",
    "plt.show()"
   ],
   "outputs": [
    {
     "output_type": "stream",
     "name": "stdout",
     "text": [
      "y_span: [0, 20]\n",
      "y_span_ax: [0.04545455 9.7728055 ]\n",
      "y_length_ax: 0.09727350952996919\n",
      "x_size NOT NONE\n",
      "x_span_ax: [0.04545455 0.10618206]\n",
      "x_length_ax: 0.060727515637331426\n"
     ]
    },
    {
     "output_type": "display_data",
     "data": {
      "image/png": "[encoded data removed]",
      "text/plain": [
       "<Figure size 216x288 with 1 Axes>"
      ]
     },
     "metadata": {}
    }
   ],
   "metadata": {}
  },
  {
   "cell_type": "code",
   "execution_count": null,
   "source": [
    "plt.figure(figsize=(3,1))\r\n",
    "for i, trace in enumerate(dataset2):\r\n",
    "    # Vs = plt.fill_between(t, 20 * i + V_membrane, 20 * i + V_membrane + V_na, color='r', linewidth=0)\r\n",
    "    t_end = 3000\r\n",
    "    input = trace['input'][:t_end] \r\n",
    "    time = trace['time'][:t_end]\r\n",
    "\r\n",
    "    plt.plot(time, offset[i] + input, 'k-', linewidth=1)\r\n",
    "add_scalebar(x_units='ms', y_units='mA', anchor=(0.8, 0.4), bar_space=0, x_size=2, round=True)\r\n",
    "pltools.hide_border('a', trim=True)\r\n",
    "plt.show()"
   ],
   "outputs": [
    {
     "output_type": "stream",
     "name": "stdout",
     "text": [
      "NONE\n",
      "ax.get_yticks(): [0. 1. 2. 3.]\n",
      "y_span: [0. 1.]\n",
      "y_span_ax: [-0.07575758  0.32828283]\n",
      "y_length_ax: 0.404040404040404\n",
      "x_size NOT NONE\n",
      "x_span_ax: [0.04545455 0.10618206]\n",
      "x_length_ax: 0.06072751563733143\n"
     ]
    },
    {
     "output_type": "display_data",
     "data": {
      "image/png": "[encoded data removed]",
      "text/plain": [
       "<Figure size 216x72 with 1 Axes>"
      ]
     },
     "metadata": {}
    }
   ],
   "metadata": {}
  },
  {
   "cell_type": "code",
   "execution_count": null,
   "source": [],
   "outputs": [],
   "metadata": {}
  }
 ],
 "metadata": {
  "orig_nbformat": 4,
  "language_info": {
   "name": "python",
   "version": "3.8.7",
   "mimetype": "text/x-python",
   "codemirror_mode": {
    "name": "ipython",
    "version": 3
   },
   "pygments_lexer": "ipython3",
   "nbconvert_exporter": "python",
   "file_extension": ".py"
  },
  "kernelspec": {
   "name": "python3",
   "display_name": "Python 3.8.7 64-bit"
  },
  "interpreter": {
   "hash": "a6fe0cf8b6da188a2cb8fc25419557519b3ad837b59d59ce0679950fb09ed546"
  }
 },
 "nbformat": 4,
 "nbformat_minor": 2
}