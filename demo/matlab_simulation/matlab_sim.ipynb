{
 "cells": [
  {
   "cell_type": "markdown",
   "source": [
    "# Matlab simulations\r\n",
    "This notebook demonstrates how to simulate the recurrent network found in Fig. 4 of [Harkin, Shen _et al_. (2021)](https://doi.org/10.1101/2021.03.25.437091) using Matlab and Simulink\r\n",
    "\r\n",
    "## Matlab Installation Details\r\n",
    "- MATLAB R2020b\r\n",
    "- Simulink Control Design v5.6\r\n",
    "- Simulink Coder v9.4\r\n",
    "- Simulink v10.2\r\n",
    "- Signal Processing Toolbox v8.5\r\n",
    "- DSP System Toolboc v9.11\r\n",
    "- Parallel Computing Toolbox v7.3\r\n",
    "- Control System Toolbox v10.9\r\n",
    "\r\n",
    "## Running the simulations\r\n",
    "1. Use this folder (eg. `demo/matlab_simulation`) as the working directory for Matlab\r\n",
    "2. Run `run_parallel_sims.m` which should simulate the network based on the parameter grid search defined in lines `21:26` of `run_parallel_sims.m`\r\n",
    "3. There should not be a `mat` file `output.mat` in the folder `./output`\r\n",
    "4. The following notebook demonstrates how to parse this `mat` file to convert it to the pickled dataset files found in `demo/simulation_data/*.pickle`"
   ],
   "metadata": {}
  },
  {
   "cell_type": "code",
   "execution_count": 7,
   "source": [
    "import scipy.io as sio\r\n",
    "import pickle"
   ],
   "outputs": [],
   "metadata": {}
  },
  {
   "cell_type": "code",
   "execution_count": 2,
   "source": [
    "mat = sio.loadmat('./output/output.mat', squeeze_me=True)\r\n",
    "all_outputs = mat['out_mat']"
   ],
   "outputs": [],
   "metadata": {}
  },
  {
   "cell_type": "code",
   "execution_count": 4,
   "source": [
    "example_output = all_outputs[0]"
   ],
   "outputs": [],
   "metadata": {}
  },
  {
   "cell_type": "code",
   "execution_count": 5,
   "source": [
    "cleaned_output = []\r\n",
    "\r\n",
    "trace = {}\r\n",
    "trace['Vs'] = example_output['Vs']\r\n",
    "trace['Vd'] = example_output['Vd']\r\n",
    "trace['Vd_lin'] = example_output['Vd_lin']\r\n",
    "trace['Vs_lin'] = example_output['Vs_lin']\r\n",
    "trace['Vs_nl'] = example_output['Vs_nl']\r\n",
    "trace['time'] = example_output['time']\r\n",
    "trace['input'] = example_output['input']\r\n",
    "\r\n",
    "trace['peak'] = example_output['peak']\r\n",
    "trace['loc'] = example_output['loc']\r\n",
    "trace['gain'] = example_output['gain']\r\n",
    "trace['sensit'] = example_output['sensit']\r\n",
    "trace['pulse_height'] = example_output['pulse_height']\r\n",
    "trace['soma_thresh'] = example_output['soma_thresh']\r\n",
    "\r\n",
    "cleaned_output.append(trace)"
   ],
   "outputs": [],
   "metadata": {}
  },
  {
   "cell_type": "code",
   "execution_count": 6,
   "source": [
    "# export\r\n",
    "output_file = '../simulation_data/example_dataset.pickle'\r\n",
    "with open(output_file, 'wb') as file:\r\n",
    "    pickle.dump(cleaned_output, file)"
   ],
   "outputs": [],
   "metadata": {}
  }
 ],
 "metadata": {
  "orig_nbformat": 4,
  "language_info": {
   "name": "python",
   "version": "3.8.7",
   "mimetype": "text/x-python",
   "codemirror_mode": {
    "name": "ipython",
    "version": 3
   },
   "pygments_lexer": "ipython3",
   "nbconvert_exporter": "python",
   "file_extension": ".py"
  },
  "kernelspec": {
   "name": "python3",
   "display_name": "Python 3.8.7 64-bit"
  },
  "interpreter": {
   "hash": "a6fe0cf8b6da188a2cb8fc25419557519b3ad837b59d59ce0679950fb09ed546"
  }
 },
 "nbformat": 4,
 "nbformat_minor": 2
}